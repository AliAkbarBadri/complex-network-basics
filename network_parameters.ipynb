{
  "nbformat": 4,
  "nbformat_minor": 0,
  "metadata": {
    "colab": {
      "name": "tempo.ipynb",
      "provenance": [],
      "toc_visible": true,
      "include_colab_link": true
    },
    "kernelspec": {
      "name": "python3",
      "display_name": "Python 3"
    }
  },
  "cells": [
    {
      "cell_type": "markdown",
      "metadata": {
        "id": "view-in-github",
        "colab_type": "text"
      },
      "source": [
        "<a href=\"https://colab.research.google.com/github/AliAkbarBadri/complex-networks-basics/blob/main/network_parameters.ipynb\" target=\"_parent\"><img src=\"https://colab.research.google.com/assets/colab-badge.svg\" alt=\"Open In Colab\"/></a>"
      ]
    },
    {
      "cell_type": "markdown",
      "metadata": {
        "id": "ONai9Pw2PJCy"
      },
      "source": [
        "# Setuping"
      ]
    },
    {
      "cell_type": "code",
      "metadata": {
        "id": "nF-7m57sBgdp"
      },
      "source": [
        "import pandas as pd\n",
        "import networkx as nx\n",
        "import scipy.io\n",
        "import matplotlib.pyplot as plt\n",
        "import collections\n",
        "import numpy as np\n",
        "from collections import Counter\n",
        "import itertools\n",
        "from numpy.linalg import matrix_power\n",
        "import random\n",
        "import sys"
      ],
      "execution_count": 3,
      "outputs": []
    },
    {
      "cell_type": "code",
      "metadata": {
        "colab": {
          "base_uri": "https://localhost:8080/"
        },
        "id": "oyAv0lO5NPat",
        "outputId": "486d695b-e3b0-4e43-f13c-67441f5d38a4"
      },
      "source": [
        "! wget \"https://github.com/AliAkbarBadri/complex-networks-basics/blob/main/facebook101_princton_weighted.mat?raw=true\" -O \"facebook101_princton_weighted.mat\""
      ],
      "execution_count": 4,
      "outputs": [
        {
          "output_type": "stream",
          "text": [
            "--2020-12-02 20:21:21--  https://github.com/AliAkbarBadri/complex-networks-basics/blob/main/facebook101_princton_weighted.mat?raw=true\n",
            "Resolving github.com (github.com)... 52.192.72.89\n",
            "Connecting to github.com (github.com)|52.192.72.89|:443... connected.\n",
            "HTTP request sent, awaiting response... 302 Found\n",
            "Location: https://github.com/AliAkbarBadri/complex-networks-basics/raw/main/facebook101_princton_weighted.mat [following]\n",
            "--2020-12-02 20:21:21--  https://github.com/AliAkbarBadri/complex-networks-basics/raw/main/facebook101_princton_weighted.mat\n",
            "Reusing existing connection to github.com:443.\n",
            "HTTP request sent, awaiting response... 302 Found\n",
            "Location: https://raw.githubusercontent.com/AliAkbarBadri/complex-networks-basics/main/facebook101_princton_weighted.mat [following]\n",
            "--2020-12-02 20:21:22--  https://raw.githubusercontent.com/AliAkbarBadri/complex-networks-basics/main/facebook101_princton_weighted.mat\n",
            "Resolving raw.githubusercontent.com (raw.githubusercontent.com)... 151.101.0.133, 151.101.64.133, 151.101.128.133, ...\n",
            "Connecting to raw.githubusercontent.com (raw.githubusercontent.com)|151.101.0.133|:443... connected.\n",
            "HTTP request sent, awaiting response... 200 OK\n",
            "Length: 5587065 (5.3M) [application/octet-stream]\n",
            "Saving to: ‘facebook101_princton_weighted.mat’\n",
            "\n",
            "facebook101_princto 100%[===================>]   5.33M  12.9MB/s    in 0.4s    \n",
            "\n",
            "2020-12-02 20:21:23 (12.9 MB/s) - ‘facebook101_princton_weighted.mat’ saved [5587065/5587065]\n",
            "\n"
          ],
          "name": "stdout"
        }
      ]
    },
    {
      "cell_type": "markdown",
      "metadata": {
        "id": "omG6JcCMPGLO"
      },
      "source": [
        "# Reading Data"
      ]
    },
    {
      "cell_type": "code",
      "metadata": {
        "colab": {
          "base_uri": "https://localhost:8080/"
        },
        "id": "Cq0LCSLpMwfu",
        "outputId": "384a715e-c797-41d1-c667-6156155996fc"
      },
      "source": [
        "mat = scipy.io.loadmat('facebook101_princton_weighted.mat')\n",
        "print(mat.keys())\n",
        "print(mat['A'].shape[0])\n",
        "print(mat['A'])"
      ],
      "execution_count": 5,
      "outputs": [
        {
          "output_type": "stream",
          "text": [
            "dict_keys(['__header__', '__version__', '__globals__', 'A'])\n",
            "6596\n",
            "  (41, 0)\t0.23341986187511532\n",
            "  (74, 0)\t-0.8310836341707424\n",
            "  (183, 0)\t0.3630774693417993\n",
            "  (199, 0)\t-0.4255819109410841\n",
            "  (330, 0)\t-0.8915522179046713\n",
            "  (342, 0)\t0.6004699460747422\n",
            "  (438, 0)\t0.559033155005757\n",
            "  (638, 0)\t-0.15789912487319158\n",
            "  (639, 0)\t-0.3689795200377264\n",
            "  (700, 0)\t0.667096028355807\n",
            "  (762, 0)\t0.6388290129260563\n",
            "  (790, 0)\t-0.5971903653879409\n",
            "  (813, 0)\t-0.9203448232766431\n",
            "  (908, 0)\t-0.5661217215565775\n",
            "  (1001, 0)\t-0.40887388509123834\n",
            "  (1074, 0)\t0.14383939484847108\n",
            "  (1084, 0)\t0.4229554254707699\n",
            "  (1179, 0)\t0.3118105095583956\n",
            "  (1195, 0)\t0.014127530389211218\n",
            "  (1226, 0)\t-0.47309716640306787\n",
            "  (1252, 0)\t-0.013995007645000168\n",
            "  (1343, 0)\t-0.3969440595287481\n",
            "  (1415, 0)\t0.49268599971253546\n",
            "  (1435, 0)\t-0.21118357393040132\n",
            "  (1489, 0)\t-0.250254338391553\n",
            "  :\t:\n",
            "  (3083, 6595)\t-0.2566179533318984\n",
            "  (3255, 6595)\t-0.16483967626475793\n",
            "  (3311, 6595)\t-0.9284036578868178\n",
            "  (3487, 6595)\t0.9428205382791961\n",
            "  (3647, 6595)\t-0.42217693188211425\n",
            "  (3668, 6595)\t-0.36534361853547503\n",
            "  (4023, 6595)\t0.8239484366157184\n",
            "  (4243, 6595)\t0.6851792356594184\n",
            "  (4274, 6595)\t0.9260160708129963\n",
            "  (4364, 6595)\t0.10388197690840384\n",
            "  (4512, 6595)\t-0.8146840514424398\n",
            "  (5146, 6595)\t0.1551500432630697\n",
            "  (5236, 6595)\t-0.4750785844234471\n",
            "  (5354, 6595)\t-0.7205657669715322\n",
            "  (5407, 6595)\t-0.7608004163800224\n",
            "  (5408, 6595)\t-0.4444347315815729\n",
            "  (5428, 6595)\t0.23840572054270304\n",
            "  (5541, 6595)\t-0.9204416888877411\n",
            "  (5656, 6595)\t0.9629661899264776\n",
            "  (5662, 6595)\t0.6833325001629929\n",
            "  (5701, 6595)\t-0.30194432494677126\n",
            "  (5877, 6595)\t0.06791589086551841\n",
            "  (6494, 6595)\t-0.7797964925244472\n",
            "  (6510, 6595)\t0.6686343083902995\n",
            "  (6568, 6595)\t-0.05460279445991589\n"
          ],
          "name": "stdout"
        }
      ]
    },
    {
      "cell_type": "code",
      "metadata": {
        "colab": {
          "base_uri": "https://localhost:8080/"
        },
        "id": "mMTjkoHeOQbX",
        "outputId": "b884ab49-2dd9-4aa6-c6f2-c11b319ae0b3"
      },
      "source": [
        "G = nx.from_scipy_sparse_matrix(mat['A'])\n",
        "print(G.number_of_nodes())\n",
        "print(G.number_of_edges())"
      ],
      "execution_count": 6,
      "outputs": [
        {
          "output_type": "stream",
          "text": [
            "6596\n",
            "293320\n"
          ],
          "name": "stdout"
        }
      ]
    },
    {
      "cell_type": "code",
      "metadata": {
        "colab": {
          "base_uri": "https://localhost:8080/"
        },
        "id": "xyMoH3rwO6QR",
        "outputId": "ffa6cf81-9ead-4284-ad11-3a45f4edbc0f"
      },
      "source": [
        "G.get_edge_data(6568,6595)"
      ],
      "execution_count": 7,
      "outputs": [
        {
          "output_type": "execute_result",
          "data": {
            "text/plain": [
              "{'weight': -0.05460279445991589}"
            ]
          },
          "metadata": {
            "tags": []
          },
          "execution_count": 7
        }
      ]
    },
    {
      "cell_type": "markdown",
      "metadata": {
        "id": "TP79nr7kgO9H"
      },
      "source": [
        "# Social Network Graph"
      ]
    },
    {
      "cell_type": "markdown",
      "metadata": {
        "id": "cre7Gzc9QPM8"
      },
      "source": [
        "## Plotting Degree Distribution\n",
        "\n",
        "http://snap.stanford.edu/class/cs224w-2012/nx_tutorial.pdf"
      ]
    },
    {
      "cell_type": "code",
      "metadata": {
        "colab": {
          "base_uri": "https://localhost:8080/",
          "height": 299
        },
        "id": "vVcJaV06Rolj",
        "outputId": "c1ddf014-df69-441e-9de0-349466f42e22"
      },
      "source": [
        "degs = {}\n",
        "for n in G.nodes():\n",
        "  deg = G.degree(n) \n",
        "  if deg not in degs:\n",
        "    degs[deg] = 0 \n",
        "  degs[deg] += 1\n",
        "items = sorted(degs.items())\n",
        "\n",
        "fig = plt.figure()\n",
        "ax = fig.add_subplot(111)\n",
        "ax.plot([k for (k,v) in items], [v for (k,v) in items]) \n",
        "ax.set_xlabel(\"log degree\")\n",
        "ax.set_ylabel(\"log frequency\")\n",
        "ax.set_xscale('log') \n",
        "ax.set_yscale('log')\n",
        "plt.title(\"Degree Distribution\")\n",
        "plt.show()\n",
        "\n",
        "# fig.savefig(\"degree_distribution.png\")"
      ],
      "execution_count": null,
      "outputs": [
        {
          "output_type": "display_data",
          "data": {
            "image/png": "[encoded data removed]",
            "text/plain": [
              "<Figure size 432x288 with 1 Axes>"
            ]
          },
          "metadata": {
            "tags": [],
            "needs_background": "light"
          }
        }
      ]
    },
    {
      "cell_type": "markdown",
      "metadata": {
        "id": "z1PYA2eETIJ-"
      },
      "source": [
        "## Plotting Eigen Value Distribution"
      ]
    },
    {
      "cell_type": "code",
      "metadata": {
        "colab": {
          "base_uri": "https://localhost:8080/"
        },
        "id": "V_A867aACU04",
        "outputId": "3244aab4-f544-4a09-fa69-b17901d058bf"
      },
      "source": [
        "adj_spectrum = nx.linalg.spectrum.adjacency_spectrum(G, weight=None)\n",
        "adj_spectrum"
      ],
      "execution_count": null,
      "outputs": [
        {
          "output_type": "execute_result",
          "data": {
            "text/plain": [
              "array([169.85596686+0.j, 108.61347417+0.j, 104.11311476+0.j, ...,\n",
              "        -1.        +0.j,  -1.        +0.j,  -1.        +0.j])"
            ]
          },
          "metadata": {
            "tags": []
          },
          "execution_count": 14
        }
      ]
    },
    {
      "cell_type": "code",
      "metadata": {
        "colab": {
          "base_uri": "https://localhost:8080/"
        },
        "id": "4MmW54RfVwaU",
        "outputId": "17d23609-7d56-4ca5-c82b-4d297b77dce4"
      },
      "source": [
        "len(adj_spectrum)"
      ],
      "execution_count": null,
      "outputs": [
        {
          "output_type": "execute_result",
          "data": {
            "text/plain": [
              "6596"
            ]
          },
          "metadata": {
            "tags": []
          },
          "execution_count": 16
        }
      ]
    },
    {
      "cell_type": "code",
      "metadata": {
        "colab": {
          "base_uri": "https://localhost:8080/",
          "height": 397
        },
        "id": "xBClTgGbEeL6",
        "outputId": "2cc5f405-5191-449c-9c6d-952a662ce37d"
      },
      "source": [
        "plt.hist(adj_spectrum, bins=300)\n",
        "plt.xlabel(\"Real part of eigen values\")\n",
        "plt.ylabel(\"Frequency\")\n",
        "plt.title(\"Distribution of Eigen Values of Adjacency Matrix\")\n",
        "plt.show()"
      ],
      "execution_count": null,
      "outputs": [
        {
          "output_type": "stream",
          "text": [
            "/usr/local/lib/python3.6/dist-packages/numpy/lib/histograms.py:854: ComplexWarning: Casting complex values to real discards the imaginary part\n",
            "  indices = f_indices.astype(np.intp)\n",
            "/usr/local/lib/python3.6/dist-packages/matplotlib/transforms.py:789: ComplexWarning: Casting complex values to real discards the imaginary part\n",
            "  points = np.array(args, dtype=float).reshape(2, 2)\n",
            "/usr/local/lib/python3.6/dist-packages/matplotlib/transforms.py:1969: ComplexWarning: Casting complex values to real discards the imaginary part\n",
            "  x, y = float(x), float(y)\n"
          ],
          "name": "stderr"
        },
        {
          "output_type": "display_data",
          "data": {
            "image/png": "[encoded data removed]",
            "text/plain": [
              "<Figure size 432x288 with 1 Axes>"
            ]
          },
          "metadata": {
            "tags": [],
            "needs_background": "light"
          }
        }
      ]
    },
    {
      "cell_type": "markdown",
      "metadata": {
        "id": "q9_apTbCHzhX"
      },
      "source": [
        "## The number of paths of length 10"
      ]
    },
    {
      "cell_type": "code",
      "metadata": {
        "colab": {
          "base_uri": "https://localhost:8080/"
        },
        "id": "_e5gFX0DyjNg",
        "outputId": "d19ffdd8-9ac2-4a2f-dd62-d09268177ee1"
      },
      "source": [
        "# good\n",
        "\n",
        "adj_mat = nx.to_numpy_matrix(G, weight=None)\n",
        "adj_10 = matrix_power(adj_mat, 10)\n",
        "np.sum(adj_10)"
      ],
      "execution_count": 8,
      "outputs": [
        {
          "output_type": "execute_result",
          "data": {
            "text/plain": [
              "5.994817000009178e+25"
            ]
          },
          "metadata": {
            "tags": []
          },
          "execution_count": 8
        }
      ]
    },
    {
      "cell_type": "code",
      "metadata": {
        "colab": {
          "base_uri": "https://localhost:8080/"
        },
        "id": "VPSoAVdYJ2PA",
        "outputId": "3784a6c9-9f07-41a2-91e7-70fadf2cb2bd"
      },
      "source": [
        "# bad\n",
        "\n",
        "adj_mat = nx.linalg.graphmatrix.adjacency_matrix(G, weight=None)\n",
        "adj_mat_5 = adj_mat**5\n",
        "np.sum(adj_mat_5)"
      ],
      "execution_count": null,
      "outputs": [
        {
          "output_type": "execute_result",
          "data": {
            "text/plain": [
              "427420070161162"
            ]
          },
          "metadata": {
            "tags": []
          },
          "execution_count": 17
        }
      ]
    },
    {
      "cell_type": "code",
      "metadata": {
        "id": "4grtWzkuYTe8"
      },
      "source": [
        "# adj_mat_6 = np.matmul(adj_mat_5.todense(), adj_mat.todense())"
      ],
      "execution_count": null,
      "outputs": []
    },
    {
      "cell_type": "markdown",
      "metadata": {
        "id": "SoAoDRlXhABh"
      },
      "source": [
        "## Number of connected components"
      ]
    },
    {
      "cell_type": "code",
      "metadata": {
        "id": "h1ri3OS80Fjy"
      },
      "source": [
        "g_adj = G.adj"
      ],
      "execution_count": null,
      "outputs": []
    },
    {
      "cell_type": "code",
      "metadata": {
        "id": "p9E6uGLqvSP3"
      },
      "source": [
        "def connected_components(graph):\n",
        "  all_seen = set()\n",
        "  for v in graph:\n",
        "    if v not in all_seen:\n",
        "      G_adj = graph.adj\n",
        "      seen = set()\n",
        "      nextlevel = {v}\n",
        "      while nextlevel:\n",
        "        thislevel = nextlevel\n",
        "        nextlevel = set()\n",
        "        for v in thislevel:\n",
        "          if v not in seen:\n",
        "              seen.add(v)\n",
        "              nextlevel.update(G_adj[v])\n",
        "      all_seen.update(seen)\n",
        "      yield seen"
      ],
      "execution_count": 10,
      "outputs": []
    },
    {
      "cell_type": "code",
      "metadata": {
        "colab": {
          "base_uri": "https://localhost:8080/"
        },
        "id": "FjZswtSbxSOx",
        "outputId": "ae932ef6-de15-4295-a725-e3f7dbbe29bc"
      },
      "source": [
        "connected_components_list = [G.subgraph(c).copy() for c in connected_components(G)]\n",
        "len(connected_components_list)"
      ],
      "execution_count": null,
      "outputs": [
        {
          "output_type": "execute_result",
          "data": {
            "text/plain": [
              "10"
            ]
          },
          "metadata": {
            "tags": []
          },
          "execution_count": 73
        }
      ]
    },
    {
      "cell_type": "code",
      "metadata": {
        "colab": {
          "base_uri": "https://localhost:8080/"
        },
        "id": "vPEo67Ont9XT",
        "outputId": "33dbf832-3f11-4960-a296-e590e77e44fd"
      },
      "source": [
        "for component in connected_components_list:\n",
        "  print(component.number_of_nodes())"
      ],
      "execution_count": null,
      "outputs": [
        {
          "output_type": "stream",
          "text": [
            "6575\n",
            "2\n",
            "3\n",
            "2\n",
            "2\n",
            "3\n",
            "3\n",
            "2\n",
            "2\n",
            "2\n"
          ],
          "name": "stdout"
        }
      ]
    },
    {
      "cell_type": "markdown",
      "metadata": {
        "id": "85lBXaeobh9S"
      },
      "source": [
        "## Longest Path Length"
      ]
    },
    {
      "cell_type": "code",
      "metadata": {
        "colab": {
          "base_uri": "https://localhost:8080/"
        },
        "id": "hhgbLl9-9lJF",
        "outputId": "0427e6ff-f7df-48d4-b7f9-718864c9cf03"
      },
      "source": [
        "import sys\n",
        "sys.setrecursionlimit(50000)\n",
        "print(sys.getrecursionlimit())"
      ],
      "execution_count": 19,
      "outputs": [
        {
          "output_type": "stream",
          "text": [
            "50000\n"
          ],
          "name": "stdout"
        }
      ]
    },
    {
      "cell_type": "code",
      "metadata": {
        "id": "EFufxRn_3oKV"
      },
      "source": [
        "def DFS(graph, src, prev_len, max_len, visited): \n",
        "  visited[src] = 1 \n",
        "  curr_len = 0\n",
        "  adjacent = None\n",
        "  G_adj = graph.adj\n",
        "  for adjacent in list(G_adj[src].keys()): \n",
        "    if not visited[adjacent]: \n",
        "        curr_len = prev_len + 1\n",
        "        DFS(graph, adjacent, curr_len, max_len, visited) \n",
        "    if (max_len[0] < curr_len):  \n",
        "        max_len[0] = curr_len  \n",
        "    curr_len = 0"
      ],
      "execution_count": 17,
      "outputs": []
    },
    {
      "cell_type": "code",
      "metadata": {
        "colab": {
          "base_uri": "https://localhost:8080/"
        },
        "id": "LSggQm_X_W14",
        "outputId": "c684d455-ad9a-4a13-85df-face81b41fcf"
      },
      "source": [
        "max_len = [-999999999999]\n",
        "G0 = connected_components_list[0]\n",
        "for node in G0.nodes():\n",
        "  if node%250 == 0:\n",
        "    print(node)\n",
        "  visited = [False] * G.number_of_nodes()\n",
        "  DFS(G0, node, 0, max_len, visited)\n",
        "\n",
        "print()\n",
        "print(max_len[0])"
      ],
      "execution_count": null,
      "outputs": [
        {
          "output_type": "stream",
          "text": [
            "0\n",
            "250\n",
            "500\n",
            "750\n",
            "1000\n",
            "1250\n",
            "1500\n",
            "1750\n",
            "2000\n",
            "2250\n",
            "2500\n",
            "2750\n",
            "3000\n",
            "3250\n",
            "3500\n",
            "3750\n",
            "4000\n",
            "4250\n",
            "4500\n",
            "4750\n",
            "5000\n",
            "5250\n",
            "5500\n",
            "5750\n",
            "6000\n",
            "6250\n",
            "6500\n",
            "\n",
            "5896\n"
          ],
          "name": "stdout"
        }
      ]
    },
    {
      "cell_type": "code",
      "metadata": {
        "colab": {
          "base_uri": "https://localhost:8080/"
        },
        "id": "bVTGnx8OyiAy",
        "outputId": "472f6269-6142-47b8-df5e-c5c2eee8e8da"
      },
      "source": [
        "v=None\n",
        "G0 = connected_components_list[0]\n",
        "e = {}\n",
        "for i, n in enumerate(G0.nbunch_iter(v)):\n",
        "  if i % 250==0:\n",
        "    print(i)\n",
        "  length = nx.single_source_shortest_path_length(G0, n)\n",
        "  L = len(length)\n",
        "  e[n] = max(length.values())\n",
        "\n",
        "print(max(e.values()))"
      ],
      "execution_count": null,
      "outputs": [
        {
          "output_type": "stream",
          "text": [
            "0\n",
            "250\n",
            "500\n",
            "750\n",
            "1000\n",
            "1250\n",
            "1500\n",
            "1750\n",
            "2000\n",
            "2250\n",
            "2500\n",
            "2750\n",
            "3000\n",
            "3250\n",
            "3500\n",
            "3750\n",
            "4000\n",
            "4250\n",
            "4500\n",
            "4750\n",
            "5000\n",
            "5250\n",
            "5500\n",
            "5750\n",
            "6000\n",
            "6250\n",
            "6500\n",
            "9\n"
          ],
          "name": "stdout"
        }
      ]
    },
    {
      "cell_type": "markdown",
      "metadata": {
        "id": "LwB9Be82g715"
      },
      "source": [
        "## Global clustering coefficient\n",
        "http://www2.unb.ca/~ddu/6634/Lecture_notes/Lec3_network_statistics_handout.pdf"
      ]
    },
    {
      "cell_type": "code",
      "metadata": {
        "id": "xpX1XulKNPHO"
      },
      "source": [
        "def triangles_and_degree(G, nodes=None):\n",
        "  nodes_nbrs = G.adj.items()\n",
        "  for v, v_nbrs in nodes_nbrs:\n",
        "    vs = set(v_nbrs) - {v}\n",
        "    gen_degree = Counter(len(vs & (set(G[w]) - {w})) for w in vs)\n",
        "    ntriangles = sum(k * val for k, val in gen_degree.items())\n",
        "    yield (len(vs), ntriangles)"
      ],
      "execution_count": 23,
      "outputs": []
    },
    {
      "cell_type": "code",
      "metadata": {
        "colab": {
          "base_uri": "https://localhost:8080/"
        },
        "id": "McEONtuTKc-m",
        "outputId": "4156de11-e117-4acc-f728-2347c6cf2983"
      },
      "source": [
        "temp = [[d*(d-1),t] for d, t in triangles_and_degree(G)]\n",
        "contri, triangles = np.array(temp).sum(axis=0)\n",
        "print(triangles, contri)\n",
        "print(triangles / contri)"
      ],
      "execution_count": null,
      "outputs": [
        {
          "output_type": "stream",
          "text": [
            "15123246 92279402\n",
            "0.1638853923218965\n"
          ],
          "name": "stdout"
        }
      ]
    },
    {
      "cell_type": "code",
      "metadata": {
        "id": "O_GMRbpDM3b9",
        "colab": {
          "base_uri": "https://localhost:8080/"
        },
        "outputId": "9cdd7e57-673e-433f-ca11-5917543f371e"
      },
      "source": [
        "vs = set(G.adj[1]) - {1}\n",
        "print(vs)\n",
        "print()\n",
        "for w in vs:\n",
        "  print(\"Node:\", w)\n",
        "  print(set(G[w]) - {w})\n",
        "  print(len(vs & (set(G[w]) - {w})))\n",
        "  print()\n",
        "gen_degree = Counter(len(vs & (set(G[w]) - {w})) for w in vs)\n",
        "print(gen_degree)"
      ],
      "execution_count": null,
      "outputs": [
        {
          "output_type": "stream",
          "text": [
            "{3776, 2657, 3010, 5323, 1361, 881, 5044, 3255, 538, 4476, 1213}\n",
            "\n",
            "Node: 3776\n",
            "{4992, 1, 4613, 1286, 1543, 4103, 2061, 538, 3995, 3103, 1824, 1444, 5159, 2218, 940, 6068, 3255, 3010, 1989, 5701, 5066, 5067, 4556, 5323, 2640, 1361, 3668, 3926, 5591, 4056, 6238, 2923, 2672, 2289, 5236, 4726}\n",
            "5\n",
            "\n",
            "Node: 2657\n",
            "{1, 4098, 1546, 2059, 5140, 5653, 5142, 5656, 538, 539, 1051, 6171, 6179, 1063, 4649, 5164, 1070, 2607, 4142, 4145, 5169, 6194, 1590, 3640, 3133, 4160, 1091, 2629, 3656, 1097, 2633, 75, 2634, 1101, 1616, 3152, 83, 3156, 5203, 5719, 99, 4091, 1640, 2664, 6247, 5227, 1135, 3185, 6258, 4724, 1657, 125, 1672, 137, 1163, 657, 5267, 4245, 3225, 2202, 5790, 1183, 3233, 1188, 2212, 4772, 1191, 6311, 5631, 5292, 685, 686, 6318, 2737, 690, 3764, 3254, 3768, 4793, 4794, 1213, 2238, 4285, 4799, 5831, 4810, 5323, 3792, 1747, 725, 3803, 733, 1759, 4836, 741, 1254, 6372, 4840, 4331, 3308, 3309, 3825, 1276, 3325, 6396, 1791, 2304, 5376, 1284, 2311, 3335, 268, 5901, 4366, 271, 275, 6419, 5909, 3353, 5914, 4891, 801, 2337, 805, 6440, 3881, 2858, 811, 4395, 308, 1343, 4929, 4930, 5443, 838, 4934, 5960, 6471, 4426, 1870, 3921, 5457, 4948, 1365, 1878, 343, 1882, 4443, 2910, 351, 352, 2911, 4977, 2933, 2423, 5498, 896, 391, 5001, 908, 5009, 920, 3485, 3998, 2463, 1953, 4003, 5544, 1451, 5035, 6062, 5554, 6066, 6068, 1973, 950, 1462, 4022, 443, 1468, 6588, 5570, 1988, 5572, 3529, 5066, 5067, 460, 2510, 3022, 1488, 5583, 5585, 6096, 4567, 2522, 5600, 482, 1002, 1003, 3564, 4591, 3569, 3059, 6137, 507, 1533, 1023}\n",
            "3\n",
            "\n",
            "Node: 3010\n",
            "{1, 1800, 4617, 1546, 3083, 267, 4364, 6411, 2575, 3343, 3602, 2322, 6419, 1558, 2585, 281, 5662, 1311, 1824, 2083, 1063, 6440, 2857, 1578, 4908, 1330, 1076, 4148, 4404, 2618, 5178, 5692, 6204, 3903, 4415, 2881, 4929, 5187, 5439, 5701, 839, 4426, 2123, 1101, 2640, 3152, 1361, 5203, 4948, 6229, 3926, 1889, 5473, 2659, 5987, 2919, 2664, 4456, 5227, 6510, 5236, 2677, 4726, 2934, 1911, 3452, 6270, 1924, 905, 1162, 1934, 400, 6545, 4243, 5526, 3996, 5789, 929, 1191, 6568, 3245, 4016, 2225, 1203, 5299, 436, 2494, 3776, 6595, 5572, 5066, 5323, 5075, 4309, 4057, 3803, 475, 2524, 992, 229, 3301, 487, 3047, 3311, 3568, 241, 5107, 5878, 510}\n",
            "3\n",
            "\n",
            "Node: 5323\n",
            "{1, 3073, 509, 4613, 774, 1543, 1800, 1546, 4364, 2061, 3342, 3087, 3856, 538, 6427, 5662, 3103, 5665, 1314, 805, 1321, 2858, 5164, 2100, 4148, 5692, 319, 4929, 834, 5955, 69, 5701, 5709, 4175, 4431, 3921, 3156, 852, 1365, 5207, 2649, 2657, 99, 2659, 2406, 3430, 4456, 4091, 3180, 6254, 881, 2674, 4724, 2426, 893, 896, 1170, 5267, 1176, 4250, 3995, 6301, 1444, 677, 3753, 2218, 1195, 3755, 3245, 937, 3500, 2737, 5814, 3255, 3259, 446, 1215, 3776, 4799, 6593, 3010, 5829, 1989, 3273, 5066, 4811, 4300, 4043, 4556, 2767, 5067, 3022, 4309, 5591, 984, 4056, 5600, 483, 3311, 3312, 1522, 5877, 507, 504, 1785, 6139, 1533}\n",
            "6\n",
            "\n",
            "Node: 1361\n",
            "{1, 1018, 3083, 6411, 2061, 526, 1293, 5901, 784, 5656, 2073, 538, 3353, 5662, 31, 3103, 1824, 2594, 294, 1063, 5415, 6440, 2857, 4908, 3120, 3632, 4404, 1078, 3127, 5944, 3642, 3903, 4415, 4418, 1093, 2630, 4166, 5192, 2633, 4424, 2123, 588, 1356, 4175, 2640, 2903, 2905, 2906, 3676, 2659, 2406, 5227, 1901, 5231, 1394, 5236, 4726, 1662, 6270, 4736, 5509, 905, 2188, 2701, 6545, 3988, 3995, 3996, 5280, 1185, 929, 3237, 1191, 3240, 4775, 2218, 1195, 6568, 3245, 3757, 4521, 4013, 2225, 1457, 1203, 5299, 436, 4020, 438, 6331, 4284, 3776, 3010, 1989, 3014, 5066, 3794, 4308, 4056, 5344, 480, 229, 3303, 4843, 3568, 241, 3825, 5365, 5878, 4085, 6394}\n",
            "3\n",
            "\n",
            "Node: 881\n",
            "{1024, 1, 3586, 4608, 1032, 4616, 2061, 2574, 1552, 2577, 3602, 4627, 4638, 3103, 5152, 2593, 5662, 6179, 1063, 5159, 5164, 3630, 4142, 1073, 562, 3127, 3643, 4160, 2626, 5698, 2117, 2633, 5706, 75, 79, 1615, 2127, 3152, 1107, 4175, 4692, 3070, 5207, 4184, 89, 1113, 5214, 6238, 1633, 99, 4196, 105, 2153, 4207, 4209, 4724, 5236, 2682, 635, 6267, 1149, 125, 4222, 4738, 3715, 6274, 1157, 2181, 3719, 6281, 3211, 5626, 2200, 3225, 4250, 4251, 1692, 5787, 158, 6300, 6304, 2212, 165, 1191, 6311, 3753, 2218, 4267, 5298, 182, 3766, 3257, 4793, 5819, 6331, 1726, 703, 706, 5829, 5323, 4300, 1747, 5845, 4311, 5852, 221, 733, 2783, 4836, 5348, 4842, 5869, 750, 4848, 753, 5361, 4340, 3830, 3330, 1284, 3334, 3339, 4364, 2318, 271, 2322, 6419, 4886, 5910, 793, 4891, 6430, 5925, 1834, 299, 4908, 1838, 5428, 3388, 317, 1853, 4415, 4929, 834, 6468, 1861, 2889, 4426, 5962, 4431, 3409, 3411, 2391, 4441, 348, 2909, 2912, 1895, 3436, 6510, 2427, 4476, 893, 896, 1410, 5506, 2436, 2440, 6027, 3988, 6550, 6044, 4509, 3998, 5539, 1444, 4519, 5545, 4013, 5550, 431, 3504, 4018, 4020, 5560, 6074, 1468, 5565, 6588, 6593, 1476, 1989, 4549, 4555, 460, 5583, 5594, 483, 485, 3047, 1009, 3059, 3571, 1018, 510}\n",
            "2\n",
            "\n",
            "Node: 5044\n",
            "{1, 1034, 3083, 2060, 4109, 2576, 4113, 18, 533, 2070, 1559, 31, 33, 545, 1571, 2596, 1063, 6183, 1067, 49, 3122, 5172, 566, 3642, 576, 1605, 2631, 1102, 3155, 4087, 598, 3679, 3168, 5223, 1128, 4200, 619, 3692, 1133, 4720, 1144, 5753, 2686, 4223, 1676, 3213, 657, 5779, 6292, 5270, 6295, 5272, 2713, 6301, 5800, 169, 6320, 1213, 5822, 703, 6336, 3266, 1233, 1235, 2260, 3285, 4309, 3300, 1766, 5355, 6379, 5359, 1780, 2805, 5365, 2810, 763, 6408, 3338, 5386, 784, 4880, 6419, 6422, 3863, 4887, 4890, 2333, 1311, 2853, 3881, 4395, 6448, 1841, 5427, 3894, 6456, 4420, 1861, 4934, 6471, 6473, 1866, 3416, 2907, 1372, 2911, 365, 4463, 4984, 892, 893, 2430, 383, 3452, 1412, 2954, 1420, 911, 2447, 1940, 4502, 5015, 5016, 5017, 6553, 3485, 1956, 1964, 5548, 431, 2479, 4533, 964, 1483, 5068, 5586, 3029, 5593, 475, 988, 1503, 480, 2529, 3553, 4576, 4577, 3063, 5117, 5118}\n",
            "1\n",
            "\n",
            "Node: 3255\n",
            "{1, 5, 4613, 1546, 2059, 3087, 6159, 4626, 6166, 536, 538, 5662, 3103, 2081, 34, 5164, 1076, 1077, 2100, 1079, 3640, 1081, 4148, 69, 585, 4174, 2127, 4175, 3668, 4091, 5233, 2674, 3701, 125, 3715, 5764, 1161, 2188, 653, 5260, 6289, 1176, 2202, 4250, 3229, 6301, 159, 673, 2726, 3753, 3755, 4275, 186, 4794, 3776, 5831, 5323, 4300, 3792, 3283, 2788, 1770, 5354, 3309, 750, 3312, 2810, 6396, 4349, 5893, 774, 5899, 4364, 3856, 787, 2836, 5407, 2337, 1314, 6437, 809, 2858, 5931, 1838, 3893, 1850, 3388, 5439, 2369, 834, 4929, 2884, 5955, 2374, 1357, 3413, 867, 3430, 4456, 5488, 2420, 2933, 2426, 4476, 893, 6529, 5506, 906, 1425, 4512, 1444, 3500, 3504, 4018, 1459, 2485, 950, 1978, 446, 6593, 6595, 1989, 973, 5077, 984, 1500, 6109, 992, 5600, 2539, 1527, 5112, 507, 509, 6143}\n",
            "4\n",
            "\n",
            "Node: 538\n",
            "{1, 2049, 3073, 3087, 6159, 5140, 5146, 1051, 6171, 6179, 36, 1063, 1065, 5164, 6194, 4148, 3132, 6204, 1101, 4174, 3152, 5202, 3156, 4180, 1113, 5210, 4191, 1121, 99, 6247, 5227, 6254, 6258, 1141, 5238, 125, 4225, 1154, 1161, 5258, 3225, 4250, 3227, 6301, 5278, 1183, 160, 3233, 1188, 165, 2212, 1191, 2214, 6139, 6311, 5292, 2225, 5298, 3254, 3255, 5305, 186, 6329, 2240, 5322, 5323, 4300, 209, 3285, 1243, 3291, 5345, 3303, 4331, 1265, 4339, 3317, 5365, 6396, 3325, 4349, 1279, 5376, 1284, 2311, 3335, 5387, 268, 6413, 6419, 1305, 2337, 4390, 1321, 2350, 308, 5428, 5429, 4408, 3385, 3386, 5439, 5440, 5443, 6471, 1361, 4443, 5468, 351, 362, 1391, 2426, 3451, 4478, 4479, 5506, 2445, 1424, 3480, 2463, 2464, 6562, 4536, 6584, 443, 5570, 5572, 453, 4549, 1479, 5600, 483, 488, 1518, 5615, 3569, 5618, 1527, 507, 2556, 510, 5636, 5641, 1546, 3600, 5649, 4628, 5656, 1566, 5662, 3630, 3633, 3640, 5695, 1602, 2629, 3656, 2633, 4703, 1633, 2657, 614, 616, 619, 4724, 4727, 644, 647, 657, 5789, 5793, 677, 5800, 5804, 1714, 3768, 3769, 4793, 4794, 3776, 3780, 4810, 2765, 3792, 1747, 4819, 725, 2779, 733, 1759, 4836, 4842, 2795, 4843, 2801, 3825, 5885, 774, 5901, 3856, 4891, 796, 1833, 811, 5931, 1841, 2866, 822, 1853, 5950, 4929, 5953, 5960, 848, 3921, 1878, 2903, 2910, 871, 1901, 6003, 2933, 889, 4985, 893, 896, 1920, 908, 6028, 920, 4003, 4008, 1966, 5039, 4016, 6062, 949, 950, 1973, 5052, 957, 5055, 961, 5058, 1989, 5066, 3022, 4050, 2005, 5077, 984, 2020, 3047, 4072, 5096, 1003, 6135, 1018, 4091, 6143}\n",
            "5\n",
            "\n",
            "Node: 4476\n",
            "{1, 3073, 5, 271, 4630, 2585, 5657, 539, 2844, 5659, 287, 801, 37, 5929, 3883, 3628, 4142, 4911, 2100, 1339, 3388, 4671, 6213, 2634, 4174, 6222, 2135, 4184, 601, 5210, 2395, 4198, 5223, 1896, 2920, 881, 6263, 635, 4221, 6526, 2431, 1925, 4237, 3470, 6287, 3987, 3988, 6292, 6550, 2206, 6561, 6565, 3753, 1968, 4016, 3255, 6583, 4029, 4290, 966, 3275, 3535, 4819, 5077, 1501, 3549, 5857, 483, 229, 1254, 490, 1770, 1517, 1518, 1775, 4333, 2801, 3314, 3317, 5621, 2039, 507, 1023}\n",
            "2\n",
            "\n",
            "Node: 1213\n",
            "{1, 4867, 6408, 3337, 2314, 6411, 5904, 4113, 789, 4120, 4125, 6431, 5408, 3105, 1066, 3120, 49, 6193, 563, 3893, 822, 4920, 569, 2107, 4672, 4677, 837, 4425, 79, 852, 598, 6490, 3419, 3423, 2657, 1124, 6245, 4964, 5480, 1133, 2158, 366, 4721, 5233, 2425, 1916, 6529, 4226, 387, 2438, 6282, 1676, 6286, 5117, 3474, 1174, 4502, 152, 158, 2465, 2468, 5885, 5035, 5548, 3759, 5043, 5044, 4532, 1976, 3257, 3772, 1730, 4802, 3781, 203, 5835, 5583, 2256, 3282, 6099, 2516, 725, 1494, 727, 2264, 986, 989, 4319, 479, 3297, 3811, 483, 1766, 1258, 5354, 499, 5107, 4597, 2041, 1275, 2556, 4861}\n",
            "2\n",
            "\n",
            "Counter({3: 3, 2: 3, 5: 2, 6: 1, 1: 1, 4: 1})\n"
          ],
          "name": "stdout"
        }
      ]
    },
    {
      "cell_type": "markdown",
      "metadata": {
        "id": "34BBqRhdP-Nv"
      },
      "source": [
        "# GNP"
      ]
    },
    {
      "cell_type": "markdown",
      "metadata": {
        "id": "tE0_LKYVRlpy"
      },
      "source": [
        "## Generate Graph"
      ]
    },
    {
      "cell_type": "code",
      "metadata": {
        "id": "WW13sWrtRq7h"
      },
      "source": [
        "G_np = nx.generators.random_graphs.gnp_random_graph(6596, 0.02)"
      ],
      "execution_count": 5,
      "outputs": []
    },
    {
      "cell_type": "code",
      "metadata": {
        "id": "HL0SX64uf_qz"
      },
      "source": [
        "def generate_random_graph(n, p):\n",
        "  edges = itertools.combinations(range(n), 2)\n",
        "  G = nx.Graph()\n",
        "  G.add_nodes_from(range(n))\n",
        "  if p <= 0:\n",
        "    return G\n",
        "  if p >= 1:\n",
        "    return nx.complete_graph(n, create_using=G)\n",
        "  for e in edges:\n",
        "    if random.uniform(0,1) < p:\n",
        "      G.add_edge(*e)\n",
        "  return G"
      ],
      "execution_count": 19,
      "outputs": []
    },
    {
      "cell_type": "code",
      "metadata": {
        "id": "Rjtw8gIDgKWl"
      },
      "source": [
        "G_np = generate_random_graph(6596, 0.02)"
      ],
      "execution_count": 20,
      "outputs": []
    },
    {
      "cell_type": "markdown",
      "metadata": {
        "id": "Nypi_8SyP-Nv"
      },
      "source": [
        "## Plotting Degree Distribution"
      ]
    },
    {
      "cell_type": "code",
      "metadata": {
        "colab": {
          "base_uri": "https://localhost:8080/",
          "height": 299
        },
        "id": "jIQJ-9pAP-Nv",
        "outputId": "a4cf5029-0ada-4e61-ff6d-f5248952dd52"
      },
      "source": [
        "degs = {}\n",
        "for n in G_np.nodes():\n",
        "  deg = G_np.degree(n) \n",
        "  if deg not in degs:\n",
        "    degs[deg] = 0 \n",
        "  degs[deg] += 1\n",
        "items = sorted(degs.items())\n",
        "\n",
        "fig = plt.figure()\n",
        "ax = fig.add_subplot(111)\n",
        "ax.plot([k for (k,v) in items], [v for (k,v) in items]) \n",
        "ax.set_xlabel(\"log degree\")\n",
        "ax.set_ylabel(\"log frequency\")\n",
        "ax.set_xscale('log') \n",
        "ax.set_yscale('log')\n",
        "plt.title(\"Degree Distribution\")\n",
        "plt.show()\n",
        "\n",
        "# fig.savefig(\"degree_distribution.png\")"
      ],
      "execution_count": 6,
      "outputs": [
        {
          "output_type": "display_data",
          "data": {
            "image/png": "[encoded data removed]",
            "text/plain": [
              "<Figure size 432x288 with 1 Axes>"
            ]
          },
          "metadata": {
            "tags": [],
            "needs_background": "light"
          }
        }
      ]
    },
    {
      "cell_type": "markdown",
      "metadata": {
        "id": "s55TAULRP-Nw"
      },
      "source": [
        "## Plotting Eigen Value Distribution"
      ]
    },
    {
      "cell_type": "code",
      "metadata": {
        "colab": {
          "base_uri": "https://localhost:8080/"
        },
        "id": "V_iyyc9-P-Nw",
        "outputId": "bf09040a-6fa8-4e21-fa2d-c82a036ff88d"
      },
      "source": [
        "adj_spectrum = nx.linalg.spectrum.adjacency_spectrum(G_np, weight=None)\n",
        "adj_spectrum"
      ],
      "execution_count": 7,
      "outputs": [
        {
          "output_type": "execute_result",
          "data": {
            "text/plain": [
              "array([ 1.33052909e+02+0.j, -2.28430520e+01+0.j, -2.27986787e+01+0.j, ...,\n",
              "       -2.19304530e-02+0.j, -3.96105748e-02+0.j, -6.71170113e-01+0.j])"
            ]
          },
          "metadata": {
            "tags": []
          },
          "execution_count": 7
        }
      ]
    },
    {
      "cell_type": "code",
      "metadata": {
        "colab": {
          "base_uri": "https://localhost:8080/"
        },
        "id": "-gniODsWP-Nx",
        "outputId": "964250be-fbb6-4c97-fc57-7596e9d35f43"
      },
      "source": [
        "len(adj_spectrum)"
      ],
      "execution_count": 8,
      "outputs": [
        {
          "output_type": "execute_result",
          "data": {
            "text/plain": [
              "6596"
            ]
          },
          "metadata": {
            "tags": []
          },
          "execution_count": 8
        }
      ]
    },
    {
      "cell_type": "code",
      "metadata": {
        "colab": {
          "base_uri": "https://localhost:8080/",
          "height": 397
        },
        "id": "ee2hKC7NP-Nx",
        "outputId": "a4fed26b-0788-4bb4-ae26-5f90fc15c9f1"
      },
      "source": [
        "plt.hist(adj_spectrum, bins=300)\n",
        "plt.xlabel(\"Real part of eigen values\")\n",
        "plt.ylabel(\"Frequency\")\n",
        "plt.title(\"Distribution of Eigen Values of Adjacency Matrix\")\n",
        "plt.show()"
      ],
      "execution_count": 9,
      "outputs": [
        {
          "output_type": "stream",
          "text": [
            "/usr/local/lib/python3.6/dist-packages/numpy/lib/histograms.py:854: ComplexWarning: Casting complex values to real discards the imaginary part\n",
            "  indices = f_indices.astype(np.intp)\n",
            "/usr/local/lib/python3.6/dist-packages/matplotlib/transforms.py:789: ComplexWarning: Casting complex values to real discards the imaginary part\n",
            "  points = np.array(args, dtype=float).reshape(2, 2)\n",
            "/usr/local/lib/python3.6/dist-packages/matplotlib/transforms.py:1969: ComplexWarning: Casting complex values to real discards the imaginary part\n",
            "  x, y = float(x), float(y)\n"
          ],
          "name": "stderr"
        },
        {
          "output_type": "display_data",
          "data": {
            "image/png": "[encoded data removed]",
            "text/plain": [
              "<Figure size 432x288 with 1 Axes>"
            ]
          },
          "metadata": {
            "tags": [],
            "needs_background": "light"
          }
        }
      ]
    },
    {
      "cell_type": "markdown",
      "metadata": {
        "id": "uoiXZwtDDFGH"
      },
      "source": [
        "## Number of connected components"
      ]
    },
    {
      "cell_type": "code",
      "metadata": {
        "colab": {
          "base_uri": "https://localhost:8080/"
        },
        "id": "KYedTxw0DFGH",
        "outputId": "cb5bf640-fbc8-4e22-88b9-6f3d14d06b2c"
      },
      "source": [
        "connected_components_list_np = [G_np.subgraph(c).copy() for c in connected_components(G_np)]\n",
        "len(connected_components_list_np)"
      ],
      "execution_count": 11,
      "outputs": [
        {
          "output_type": "execute_result",
          "data": {
            "text/plain": [
              "1"
            ]
          },
          "metadata": {
            "tags": []
          },
          "execution_count": 11
        }
      ]
    },
    {
      "cell_type": "code",
      "metadata": {
        "colab": {
          "base_uri": "https://localhost:8080/"
        },
        "id": "s5VA0NnDDFGH",
        "outputId": "b702a34c-0974-4716-bd1b-dce6fa0d9333"
      },
      "source": [
        "for component in connected_components_list_np:\n",
        "  print(component.number_of_nodes())"
      ],
      "execution_count": 12,
      "outputs": [
        {
          "output_type": "stream",
          "text": [
            "6596\n"
          ],
          "name": "stdout"
        }
      ]
    },
    {
      "cell_type": "markdown",
      "metadata": {
        "id": "qDI01pRMEdIn"
      },
      "source": [
        "## Longest Path Length"
      ]
    },
    {
      "cell_type": "code",
      "metadata": {
        "colab": {
          "base_uri": "https://localhost:8080/"
        },
        "id": "3_SBHlB8EdIo",
        "outputId": "a9fd1f80-8826-4d12-f0fd-ec90221d1c44"
      },
      "source": [
        "max_len = [-999999999999]\n",
        "G0 = connected_components_list_np[0]\n",
        "for node in G0.nodes():\n",
        "  if node%250 == 0:\n",
        "    print(node)\n",
        "  visited = [False] * G_np.number_of_nodes()\n",
        "  DFS(G0, node, 0, max_len, visited)\n",
        "\n",
        "print()\n",
        "print(max_len[0])"
      ],
      "execution_count": 20,
      "outputs": [
        {
          "output_type": "stream",
          "text": [
            "0\n",
            "250\n",
            "500\n",
            "750\n",
            "1000\n",
            "1250\n",
            "1500\n",
            "1750\n",
            "2000\n",
            "2250\n",
            "2500\n",
            "2750\n",
            "3000\n",
            "3250\n",
            "3500\n",
            "3750\n",
            "4000\n",
            "4250\n",
            "4500\n",
            "4750\n",
            "5000\n",
            "5250\n",
            "5500\n",
            "5750\n",
            "6000\n",
            "6250\n",
            "6500\n",
            "\n",
            "6526\n"
          ],
          "name": "stdout"
        }
      ]
    },
    {
      "cell_type": "markdown",
      "metadata": {
        "id": "c2TUgMPsEmio"
      },
      "source": [
        "## Global clustering coefficient"
      ]
    },
    {
      "cell_type": "code",
      "metadata": {
        "colab": {
          "base_uri": "https://localhost:8080/"
        },
        "id": "Kc14oQSoEmip",
        "outputId": "3003a577-ca6c-4ee6-f3a2-6c8f93dc88e5"
      },
      "source": [
        "temp = [[d*(d-1),t] for d, t in triangles_and_degree(G_np)]\n",
        "contri, triangles = np.array(temp).sum(axis=0)\n",
        "print(triangles, contri)\n",
        "print(triangles / contri)"
      ],
      "execution_count": 24,
      "outputs": [
        {
          "output_type": "stream",
          "text": [
            "2305104 115058532\n",
            "0.020034185730789612\n"
          ],
          "name": "stdout"
        }
      ]
    }
  ]
}