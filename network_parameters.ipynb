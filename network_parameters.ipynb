{
  "nbformat": 4,
  "nbformat_minor": 0,
  "metadata": {
    "colab": {
      "name": "tempo.ipynb",
      "provenance": [],
      "include_colab_link": true
    },
    "kernelspec": {
      "name": "python3",
      "display_name": "Python 3"
    }
  },
  "cells": [
    {
      "cell_type": "markdown",
      "metadata": {
        "id": "view-in-github",
        "colab_type": "text"
      },
      "source": [
        "<a href=\"https://colab.research.google.com/github/AliAkbarBadri/complex-networks-basics/blob/main/network_parameters.ipynb\" target=\"_parent\"><img src=\"https://colab.research.google.com/assets/colab-badge.svg\" alt=\"Open In Colab\"/></a>"
      ]
    },
    {
      "cell_type": "markdown",
      "metadata": {
        "id": "ONai9Pw2PJCy"
      },
      "source": [
        "# Setuping"
      ]
    },
    {
      "cell_type": "code",
      "metadata": {
        "id": "nF-7m57sBgdp"
      },
      "source": [
        "import pandas as pd\n",
        "import networkx as nx\n",
        "import scipy.io\n",
        "import matplotlib.pyplot as plt\n",
        "import collections\n",
        "import numpy as np\n",
        "import warnings as "
      ],
      "execution_count": 11,
      "outputs": []
    },
    {
      "cell_type": "code",
      "metadata": {
        "colab": {
          "base_uri": "https://localhost:8080/"
        },
        "id": "oyAv0lO5NPat",
        "outputId": "50751420-c951-47fa-9595-6edc106aaa24"
      },
      "source": [
        "! wget \"https://github.com/AliAkbarBadri/complex-networks-basics/blob/main/facebook101_princton_weighted.mat?raw=true\" -O \"facebook101_princton_weighted.mat\""
      ],
      "execution_count": 2,
      "outputs": [
        {
          "output_type": "stream",
          "text": [
            "--2020-11-29 17:24:41--  https://github.com/AliAkbarBadri/complex-networks-basics/blob/main/facebook101_princton_weighted.mat?raw=true\n",
            "Resolving github.com (github.com)... 140.82.113.4\n",
            "Connecting to github.com (github.com)|140.82.113.4|:443... connected.\n",
            "HTTP request sent, awaiting response... 302 Found\n",
            "Location: https://github.com/AliAkbarBadri/complex-networks-basics/raw/main/facebook101_princton_weighted.mat [following]\n",
            "--2020-11-29 17:24:41--  https://github.com/AliAkbarBadri/complex-networks-basics/raw/main/facebook101_princton_weighted.mat\n",
            "Reusing existing connection to github.com:443.\n",
            "HTTP request sent, awaiting response... 302 Found\n",
            "Location: https://raw.githubusercontent.com/AliAkbarBadri/complex-networks-basics/main/facebook101_princton_weighted.mat [following]\n",
            "--2020-11-29 17:24:42--  https://raw.githubusercontent.com/AliAkbarBadri/complex-networks-basics/main/facebook101_princton_weighted.mat\n",
            "Resolving raw.githubusercontent.com (raw.githubusercontent.com)... 151.101.0.133, 151.101.64.133, 151.101.128.133, ...\n",
            "Connecting to raw.githubusercontent.com (raw.githubusercontent.com)|151.101.0.133|:443... connected.\n",
            "HTTP request sent, awaiting response... 200 OK\n",
            "Length: 5587065 (5.3M) [application/octet-stream]\n",
            "Saving to: ‘facebook101_princton_weighted.mat’\n",
            "\n",
            "facebook101_princto 100%[===================>]   5.33M  24.2MB/s    in 0.2s    \n",
            "\n",
            "2020-11-29 17:24:42 (24.2 MB/s) - ‘facebook101_princton_weighted.mat’ saved [5587065/5587065]\n",
            "\n"
          ],
          "name": "stdout"
        }
      ]
    },
    {
      "cell_type": "markdown",
      "metadata": {
        "id": "omG6JcCMPGLO"
      },
      "source": [
        "# Reading Data"
      ]
    },
    {
      "cell_type": "code",
      "metadata": {
        "colab": {
          "base_uri": "https://localhost:8080/"
        },
        "id": "Cq0LCSLpMwfu",
        "outputId": "ad98e87c-9562-4eea-94ca-49308963e1c7"
      },
      "source": [
        "mat = scipy.io.loadmat('facebook101_princton_weighted.mat')\n",
        "print(mat.keys())\n",
        "print(mat['A'].shape[0])\n",
        "print(mat['A'])"
      ],
      "execution_count": 3,
      "outputs": [
        {
          "output_type": "stream",
          "text": [
            "dict_keys(['__header__', '__version__', '__globals__', 'A'])\n",
            "6596\n",
            "  (41, 0)\t0.23341986187511532\n",
            "  (74, 0)\t-0.8310836341707424\n",
            "  (183, 0)\t0.3630774693417993\n",
            "  (199, 0)\t-0.4255819109410841\n",
            "  (330, 0)\t-0.8915522179046713\n",
            "  (342, 0)\t0.6004699460747422\n",
            "  (438, 0)\t0.559033155005757\n",
            "  (638, 0)\t-0.15789912487319158\n",
            "  (639, 0)\t-0.3689795200377264\n",
            "  (700, 0)\t0.667096028355807\n",
            "  (762, 0)\t0.6388290129260563\n",
            "  (790, 0)\t-0.5971903653879409\n",
            "  (813, 0)\t-0.9203448232766431\n",
            "  (908, 0)\t-0.5661217215565775\n",
            "  (1001, 0)\t-0.40887388509123834\n",
            "  (1074, 0)\t0.14383939484847108\n",
            "  (1084, 0)\t0.4229554254707699\n",
            "  (1179, 0)\t0.3118105095583956\n",
            "  (1195, 0)\t0.014127530389211218\n",
            "  (1226, 0)\t-0.47309716640306787\n",
            "  (1252, 0)\t-0.013995007645000168\n",
            "  (1343, 0)\t-0.3969440595287481\n",
            "  (1415, 0)\t0.49268599971253546\n",
            "  (1435, 0)\t-0.21118357393040132\n",
            "  (1489, 0)\t-0.250254338391553\n",
            "  :\t:\n",
            "  (3083, 6595)\t-0.2566179533318984\n",
            "  (3255, 6595)\t-0.16483967626475793\n",
            "  (3311, 6595)\t-0.9284036578868178\n",
            "  (3487, 6595)\t0.9428205382791961\n",
            "  (3647, 6595)\t-0.42217693188211425\n",
            "  (3668, 6595)\t-0.36534361853547503\n",
            "  (4023, 6595)\t0.8239484366157184\n",
            "  (4243, 6595)\t0.6851792356594184\n",
            "  (4274, 6595)\t0.9260160708129963\n",
            "  (4364, 6595)\t0.10388197690840384\n",
            "  (4512, 6595)\t-0.8146840514424398\n",
            "  (5146, 6595)\t0.1551500432630697\n",
            "  (5236, 6595)\t-0.4750785844234471\n",
            "  (5354, 6595)\t-0.7205657669715322\n",
            "  (5407, 6595)\t-0.7608004163800224\n",
            "  (5408, 6595)\t-0.4444347315815729\n",
            "  (5428, 6595)\t0.23840572054270304\n",
            "  (5541, 6595)\t-0.9204416888877411\n",
            "  (5656, 6595)\t0.9629661899264776\n",
            "  (5662, 6595)\t0.6833325001629929\n",
            "  (5701, 6595)\t-0.30194432494677126\n",
            "  (5877, 6595)\t0.06791589086551841\n",
            "  (6494, 6595)\t-0.7797964925244472\n",
            "  (6510, 6595)\t0.6686343083902995\n",
            "  (6568, 6595)\t-0.05460279445991589\n"
          ],
          "name": "stdout"
        }
      ]
    },
    {
      "cell_type": "code",
      "metadata": {
        "colab": {
          "base_uri": "https://localhost:8080/"
        },
        "id": "mMTjkoHeOQbX",
        "outputId": "12e17d65-091d-4695-e834-ffbc7bacddab"
      },
      "source": [
        "G = nx.from_scipy_sparse_matrix(mat['A'])\n",
        "print(G.number_of_nodes())"
      ],
      "execution_count": 4,
      "outputs": [
        {
          "output_type": "stream",
          "text": [
            "6596\n"
          ],
          "name": "stdout"
        }
      ]
    },
    {
      "cell_type": "code",
      "metadata": {
        "colab": {
          "base_uri": "https://localhost:8080/"
        },
        "id": "au5D1cNpR2qv",
        "outputId": "f4af100f-5a55-4ba3-92e2-899d25f22b7c"
      },
      "source": [
        "G.number_of_edges()"
      ],
      "execution_count": 5,
      "outputs": [
        {
          "output_type": "execute_result",
          "data": {
            "text/plain": [
              "293320"
            ]
          },
          "metadata": {
            "tags": []
          },
          "execution_count": 5
        }
      ]
    },
    {
      "cell_type": "code",
      "metadata": {
        "colab": {
          "base_uri": "https://localhost:8080/"
        },
        "id": "xyMoH3rwO6QR",
        "outputId": "7faed8bd-37e4-479a-dee2-ed14fbd24adc"
      },
      "source": [
        "G.get_edge_data(6568,6595)"
      ],
      "execution_count": 6,
      "outputs": [
        {
          "output_type": "execute_result",
          "data": {
            "text/plain": [
              "{'weight': -0.05460279445991589}"
            ]
          },
          "metadata": {
            "tags": []
          },
          "execution_count": 6
        }
      ]
    },
    {
      "cell_type": "markdown",
      "metadata": {
        "id": "cre7Gzc9QPM8"
      },
      "source": [
        "# Plotting Degree Distribution\n",
        "\n",
        "http://snap.stanford.edu/class/cs224w-2012/nx_tutorial.pdf"
      ]
    },
    {
      "cell_type": "code",
      "metadata": {
        "colab": {
          "base_uri": "https://localhost:8080/",
          "height": 299
        },
        "id": "vVcJaV06Rolj",
        "outputId": "c1ddf014-df69-441e-9de0-349466f42e22"
      },
      "source": [
        "degs = {}\n",
        "for n in G.nodes():\n",
        "  deg = G.degree(n) \n",
        "  if deg not in degs:\n",
        "    degs[deg] = 0 \n",
        "  degs[deg] += 1\n",
        "items = sorted(degs.items())\n",
        "\n",
        "fig = plt.figure()\n",
        "ax = fig.add_subplot(111)\n",
        "ax.plot([k for (k,v) in items], [v for (k,v) in items]) \n",
        "ax.set_xlabel(\"log degree\")\n",
        "ax.set_ylabel(\"log frequency\")\n",
        "ax.set_xscale('log') \n",
        "ax.set_yscale('log')\n",
        "plt.title(\"Degree Distribution\")\n",
        "plt.show()\n",
        "\n",
        "# fig.savefig(\"degree_distribution.png\")"
      ],
      "execution_count": 43,
      "outputs": [
        {
          "output_type": "display_data",
          "data": {
            "image/png": "[encoded data removed]",
            "text/plain": [
              "<Figure size 432x288 with 1 Axes>"
            ]
          },
          "metadata": {
            "tags": [],
            "needs_background": "light"
          }
        }
      ]
    },
    {
      "cell_type": "markdown",
      "metadata": {
        "id": "z1PYA2eETIJ-"
      },
      "source": [
        "# Plotting Eigen Value Distribution"
      ]
    },
    {
      "cell_type": "code",
      "metadata": {
        "id": "V_A867aACU04",
        "outputId": "3244aab4-f544-4a09-fa69-b17901d058bf",
        "colab": {
          "base_uri": "https://localhost:8080/"
        }
      },
      "source": [
        "adj_spectrum = nx.linalg.spectrum.adjacency_spectrum(G, weight=None)\n",
        "adj_spectrum"
      ],
      "execution_count": 14,
      "outputs": [
        {
          "output_type": "execute_result",
          "data": {
            "text/plain": [
              "array([169.85596686+0.j, 108.61347417+0.j, 104.11311476+0.j, ...,\n",
              "        -1.        +0.j,  -1.        +0.j,  -1.        +0.j])"
            ]
          },
          "metadata": {
            "tags": []
          },
          "execution_count": 14
        }
      ]
    },
    {
      "cell_type": "code",
      "metadata": {
        "colab": {
          "base_uri": "https://localhost:8080/"
        },
        "id": "4MmW54RfVwaU",
        "outputId": "17d23609-7d56-4ca5-c82b-4d297b77dce4"
      },
      "source": [
        "len(adj_spectrum)"
      ],
      "execution_count": 16,
      "outputs": [
        {
          "output_type": "execute_result",
          "data": {
            "text/plain": [
              "6596"
            ]
          },
          "metadata": {
            "tags": []
          },
          "execution_count": 16
        }
      ]
    },
    {
      "cell_type": "code",
      "metadata": {
        "id": "xBClTgGbEeL6",
        "outputId": "2cc5f405-5191-449c-9c6d-952a662ce37d",
        "colab": {
          "base_uri": "https://localhost:8080/",
          "height": 397
        }
      },
      "source": [
        "plt.hist(adj_spectrum, bins=300)\n",
        "plt.xlabel(\"Real part of eigen values\")\n",
        "plt.ylabel(\"Frequency\")\n",
        "plt.title(\"Distribution of Eigen Values of Adjacency Matrix\")\n",
        "plt.show()"
      ],
      "execution_count": 23,
      "outputs": [
        {
          "output_type": "stream",
          "text": [
            "/usr/local/lib/python3.6/dist-packages/numpy/lib/histograms.py:854: ComplexWarning: Casting complex values to real discards the imaginary part\n",
            "  indices = f_indices.astype(np.intp)\n",
            "/usr/local/lib/python3.6/dist-packages/matplotlib/transforms.py:789: ComplexWarning: Casting complex values to real discards the imaginary part\n",
            "  points = np.array(args, dtype=float).reshape(2, 2)\n",
            "/usr/local/lib/python3.6/dist-packages/matplotlib/transforms.py:1969: ComplexWarning: Casting complex values to real discards the imaginary part\n",
            "  x, y = float(x), float(y)\n"
          ],
          "name": "stderr"
        },
        {
          "output_type": "display_data",
          "data": {
            "image/png": "[encoded data removed]",
            "text/plain": [
              "<Figure size 432x288 with 1 Axes>"
            ]
          },
          "metadata": {
            "tags": [],
            "needs_background": "light"
          }
        }
      ]
    }
  ]
}