{
  "nbformat": 4,
  "nbformat_minor": 0,
  "metadata": {
    "colab": {
      "name": "tempo.ipynb",
      "provenance": [],
      "include_colab_link": true
    },
    "kernelspec": {
      "name": "python3",
      "display_name": "Python 3"
    }
  },
  "cells": [
    {
      "cell_type": "markdown",
      "metadata": {
        "id": "view-in-github",
        "colab_type": "text"
      },
      "source": [
        "<a href=\"https://colab.research.google.com/github/AliAkbarBadri/complex-networks-basics/blob/main/network_parameters.ipynb\" target=\"_parent\"><img src=\"https://colab.research.google.com/assets/colab-badge.svg\" alt=\"Open In Colab\"/></a>"
      ]
    },
    {
      "cell_type": "markdown",
      "metadata": {
        "id": "ONai9Pw2PJCy"
      },
      "source": [
        "# Setuping"
      ]
    },
    {
      "cell_type": "code",
      "metadata": {
        "id": "nF-7m57sBgdp"
      },
      "source": [
        "import pandas as pd\n",
        "import networkx as nx\n",
        "import scipy.io\n",
        "import matplotlib.pyplot as plt\n",
        "import collections"
      ],
      "execution_count": 37,
      "outputs": []
    },
    {
      "cell_type": "code",
      "metadata": {
        "colab": {
          "base_uri": "https://localhost:8080/"
        },
        "id": "oyAv0lO5NPat",
        "outputId": "4812f7ad-90f0-441c-820f-2d4e4f6f75d8"
      },
      "source": [
        "! wget \"https://github.com/AliAkbarBadri/complex-networks-basics/blob/main/facebook101_princton_weighted.mat?raw=true\" -O \"facebook101_princton_weighted.mat\""
      ],
      "execution_count": 31,
      "outputs": [
        {
          "output_type": "stream",
          "text": [
            "--2020-11-26 20:29:04--  https://github.com/AliAkbarBadri/complex-networks-basics/blob/main/facebook101_princton_weighted.mat?raw=true\n",
            "Resolving github.com (github.com)... 192.30.255.113\n",
            "Connecting to github.com (github.com)|192.30.255.113|:443... connected.\n",
            "HTTP request sent, awaiting response... 302 Found\n",
            "Location: https://github.com/AliAkbarBadri/complex-networks-basics/raw/main/facebook101_princton_weighted.mat [following]\n",
            "--2020-11-26 20:29:04--  https://github.com/AliAkbarBadri/complex-networks-basics/raw/main/facebook101_princton_weighted.mat\n",
            "Reusing existing connection to github.com:443.\n",
            "HTTP request sent, awaiting response... 302 Found\n",
            "Location: https://raw.githubusercontent.com/AliAkbarBadri/complex-networks-basics/main/facebook101_princton_weighted.mat [following]\n",
            "--2020-11-26 20:29:05--  https://raw.githubusercontent.com/AliAkbarBadri/complex-networks-basics/main/facebook101_princton_weighted.mat\n",
            "Resolving raw.githubusercontent.com (raw.githubusercontent.com)... 151.101.0.133, 151.101.64.133, 151.101.128.133, ...\n",
            "Connecting to raw.githubusercontent.com (raw.githubusercontent.com)|151.101.0.133|:443... connected.\n",
            "HTTP request sent, awaiting response... 200 OK\n",
            "Length: 5587065 (5.3M) [application/octet-stream]\n",
            "Saving to: ‘facebook101_princton_weighted.mat’\n",
            "\n",
            "facebook101_princto 100%[===================>]   5.33M  --.-KB/s    in 0.1s    \n",
            "\n",
            "2020-11-26 20:29:05 (40.6 MB/s) - ‘facebook101_princton_weighted.mat’ saved [5587065/5587065]\n",
            "\n"
          ],
          "name": "stdout"
        }
      ]
    },
    {
      "cell_type": "markdown",
      "metadata": {
        "id": "omG6JcCMPGLO"
      },
      "source": [
        "# Reading Data"
      ]
    },
    {
      "cell_type": "code",
      "metadata": {
        "colab": {
          "base_uri": "https://localhost:8080/"
        },
        "id": "Cq0LCSLpMwfu",
        "outputId": "d82f4e29-65e8-4501-f5f9-055b2085ff70"
      },
      "source": [
        "mat = scipy.io.loadmat('facebook101_princton_weighted.mat')\n",
        "print(mat.keys())\n",
        "print(mat['A'].shape[0])\n",
        "print(mat['A'])"
      ],
      "execution_count": 32,
      "outputs": [
        {
          "output_type": "stream",
          "text": [
            "dict_keys(['__header__', '__version__', '__globals__', 'A'])\n",
            "6596\n",
            "  (41, 0)\t0.23341986187511532\n",
            "  (74, 0)\t-0.8310836341707424\n",
            "  (183, 0)\t0.3630774693417993\n",
            "  (199, 0)\t-0.4255819109410841\n",
            "  (330, 0)\t-0.8915522179046713\n",
            "  (342, 0)\t0.6004699460747422\n",
            "  (438, 0)\t0.559033155005757\n",
            "  (638, 0)\t-0.15789912487319158\n",
            "  (639, 0)\t-0.3689795200377264\n",
            "  (700, 0)\t0.667096028355807\n",
            "  (762, 0)\t0.6388290129260563\n",
            "  (790, 0)\t-0.5971903653879409\n",
            "  (813, 0)\t-0.9203448232766431\n",
            "  (908, 0)\t-0.5661217215565775\n",
            "  (1001, 0)\t-0.40887388509123834\n",
            "  (1074, 0)\t0.14383939484847108\n",
            "  (1084, 0)\t0.4229554254707699\n",
            "  (1179, 0)\t0.3118105095583956\n",
            "  (1195, 0)\t0.014127530389211218\n",
            "  (1226, 0)\t-0.47309716640306787\n",
            "  (1252, 0)\t-0.013995007645000168\n",
            "  (1343, 0)\t-0.3969440595287481\n",
            "  (1415, 0)\t0.49268599971253546\n",
            "  (1435, 0)\t-0.21118357393040132\n",
            "  (1489, 0)\t-0.250254338391553\n",
            "  :\t:\n",
            "  (3083, 6595)\t-0.2566179533318984\n",
            "  (3255, 6595)\t-0.16483967626475793\n",
            "  (3311, 6595)\t-0.9284036578868178\n",
            "  (3487, 6595)\t0.9428205382791961\n",
            "  (3647, 6595)\t-0.42217693188211425\n",
            "  (3668, 6595)\t-0.36534361853547503\n",
            "  (4023, 6595)\t0.8239484366157184\n",
            "  (4243, 6595)\t0.6851792356594184\n",
            "  (4274, 6595)\t0.9260160708129963\n",
            "  (4364, 6595)\t0.10388197690840384\n",
            "  (4512, 6595)\t-0.8146840514424398\n",
            "  (5146, 6595)\t0.1551500432630697\n",
            "  (5236, 6595)\t-0.4750785844234471\n",
            "  (5354, 6595)\t-0.7205657669715322\n",
            "  (5407, 6595)\t-0.7608004163800224\n",
            "  (5408, 6595)\t-0.4444347315815729\n",
            "  (5428, 6595)\t0.23840572054270304\n",
            "  (5541, 6595)\t-0.9204416888877411\n",
            "  (5656, 6595)\t0.9629661899264776\n",
            "  (5662, 6595)\t0.6833325001629929\n",
            "  (5701, 6595)\t-0.30194432494677126\n",
            "  (5877, 6595)\t0.06791589086551841\n",
            "  (6494, 6595)\t-0.7797964925244472\n",
            "  (6510, 6595)\t0.6686343083902995\n",
            "  (6568, 6595)\t-0.05460279445991589\n"
          ],
          "name": "stdout"
        }
      ]
    },
    {
      "cell_type": "code",
      "metadata": {
        "colab": {
          "base_uri": "https://localhost:8080/"
        },
        "id": "mMTjkoHeOQbX",
        "outputId": "296c1390-41b6-4b6e-d424-5162a08f9234"
      },
      "source": [
        "G = nx.from_scipy_sparse_matrix(mat['A'])\n",
        "print(G.number_of_nodes())"
      ],
      "execution_count": 33,
      "outputs": [
        {
          "output_type": "stream",
          "text": [
            "6596\n"
          ],
          "name": "stdout"
        }
      ]
    },
    {
      "cell_type": "code",
      "metadata": {
        "id": "au5D1cNpR2qv",
        "outputId": "96795d62-568c-4342-b3d2-5a9c39a43db8",
        "colab": {
          "base_uri": "https://localhost:8080/"
        }
      },
      "source": [
        "G.number_of_edges()"
      ],
      "execution_count": 39,
      "outputs": [
        {
          "output_type": "execute_result",
          "data": {
            "text/plain": [
              "293320"
            ]
          },
          "metadata": {
            "tags": []
          },
          "execution_count": 39
        }
      ]
    },
    {
      "cell_type": "code",
      "metadata": {
        "colab": {
          "base_uri": "https://localhost:8080/"
        },
        "id": "xyMoH3rwO6QR",
        "outputId": "2c8443c9-1f72-49ce-ace9-39886be86e78"
      },
      "source": [
        "G.get_edge_data(6568,6595)"
      ],
      "execution_count": 34,
      "outputs": [
        {
          "output_type": "execute_result",
          "data": {
            "text/plain": [
              "{'weight': -0.05460279445991589}"
            ]
          },
          "metadata": {
            "tags": []
          },
          "execution_count": 34
        }
      ]
    },
    {
      "cell_type": "markdown",
      "metadata": {
        "id": "cre7Gzc9QPM8"
      },
      "source": [
        "# Plotting Degree Distribution\n",
        "\n",
        "http://snap.stanford.edu/class/cs224w-2012/nx_tutorial.pdf"
      ]
    },
    {
      "cell_type": "code",
      "metadata": {
        "id": "vVcJaV06Rolj",
        "outputId": "c1ddf014-df69-441e-9de0-349466f42e22",
        "colab": {
          "base_uri": "https://localhost:8080/",
          "height": 299
        }
      },
      "source": [
        "degs = {}\n",
        "for n in G.nodes():\n",
        "  deg = G.degree(n) \n",
        "  if deg not in degs:\n",
        "    degs[deg] = 0 \n",
        "  degs[deg] += 1\n",
        "items = sorted(degs.items())\n",
        "\n",
        "fig = plt.figure()\n",
        "ax = fig.add_subplot(111)\n",
        "ax.plot([k for (k,v) in items], [v for (k,v) in items]) \n",
        "ax.set_xlabel(\"log degree\")\n",
        "ax.set_ylabel(\"log frequency\")\n",
        "ax.set_xscale('log') \n",
        "ax.set_yscale('log')\n",
        "plt.title(\"Degree Distribution\")\n",
        "plt.show()\n",
        "\n",
        "# fig.savefig(\"degree_distribution.png\")"
      ],
      "execution_count": 43,
      "outputs": [
        {
          "output_type": "display_data",
          "data": {
            "image/png": "[encoded data removed]",
            "text/plain": [
              "<Figure size 432x288 with 1 Axes>"
            ]
          },
          "metadata": {
            "tags": [],
            "needs_background": "light"
          }
        }
      ]
    },
    {
      "cell_type": "markdown",
      "metadata": {
        "id": "z1PYA2eETIJ-"
      },
      "source": [
        "# Plotting Eigen Value Distribution"
      ]
    },
    {
      "cell_type": "code",
      "metadata": {
        "id": "4MmW54RfVwaU"
      },
      "source": [
        ""
      ],
      "execution_count": null,
      "outputs": []
    }
  ]
}