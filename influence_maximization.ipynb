{
  "nbformat": 4,
  "nbformat_minor": 0,
  "metadata": {
    "colab": {
      "name": "tempo.ipynb",
      "provenance": [],
      "toc_visible": true,
      "include_colab_link": true
    },
    "kernelspec": {
      "name": "python3",
      "display_name": "Python 3"
    }
  },
  "cells": [
    {
      "cell_type": "markdown",
      "metadata": {
        "id": "view-in-github",
        "colab_type": "text"
      },
      "source": [
        "<a href=\"https://colab.research.google.com/github/AliAkbarBadri/complex-networks-basics/blob/main/influence_maximization.ipynb\" target=\"_parent\"><img src=\"https://colab.research.google.com/assets/colab-badge.svg\" alt=\"Open In Colab\"/></a>"
      ]
    },
    {
      "cell_type": "markdown",
      "metadata": {
        "id": "ONai9Pw2PJCy"
      },
      "source": [
        "# Setuping"
      ]
    },
    {
      "cell_type": "code",
      "metadata": {
        "id": "5IpUVcfUi0wJ"
      },
      "source": [
        "import pandas as pd\n",
        "import networkx as nx\n",
        "import scipy.io\n",
        "import matplotlib.pyplot as plt\n",
        "import collections\n",
        "import numpy as np\n",
        "from collections import Counter\n",
        "import sys\n",
        "%matplotlib inline\n",
        "import matplotlib.pyplot as plt\n",
        "from random import uniform, seed\n",
        "import time\n",
        "import pickle\n",
        "import math"
      ],
      "execution_count": 22,
      "outputs": []
    },
    {
      "cell_type": "code",
      "metadata": {
        "id": "oyAv0lO5NPat",
        "colab": {
          "base_uri": "https://localhost:8080/"
        },
        "outputId": "85d4b431-8fa8-40e2-8f56-05c9f8e008da"
      },
      "source": [
        "! wget \"https://github.com/AliAkbarBadri/complex-networks-basics/blob/main/facebook101_princton_weighted.mat?raw=true\" -O \"facebook101_princton_weighted.mat\""
      ],
      "execution_count": 2,
      "outputs": [
        {
          "output_type": "stream",
          "text": [
            "--2020-12-08 18:33:06--  https://github.com/AliAkbarBadri/complex-networks-basics/blob/main/facebook101_princton_weighted.mat?raw=true\n",
            "Resolving github.com (github.com)... 140.82.121.4\n",
            "Connecting to github.com (github.com)|140.82.121.4|:443... connected.\n",
            "HTTP request sent, awaiting response... 302 Found\n",
            "Location: https://github.com/AliAkbarBadri/complex-networks-basics/raw/main/facebook101_princton_weighted.mat [following]\n",
            "--2020-12-08 18:33:07--  https://github.com/AliAkbarBadri/complex-networks-basics/raw/main/facebook101_princton_weighted.mat\n",
            "Reusing existing connection to github.com:443.\n",
            "HTTP request sent, awaiting response... 302 Found\n",
            "Location: https://raw.githubusercontent.com/AliAkbarBadri/complex-networks-basics/main/facebook101_princton_weighted.mat [following]\n",
            "--2020-12-08 18:33:07--  https://raw.githubusercontent.com/AliAkbarBadri/complex-networks-basics/main/facebook101_princton_weighted.mat\n",
            "Resolving raw.githubusercontent.com (raw.githubusercontent.com)... 151.101.0.133, 151.101.64.133, 151.101.128.133, ...\n",
            "Connecting to raw.githubusercontent.com (raw.githubusercontent.com)|151.101.0.133|:443... connected.\n",
            "HTTP request sent, awaiting response... 200 OK\n",
            "Length: 5587065 (5.3M) [application/octet-stream]\n",
            "Saving to: ‘facebook101_princton_weighted.mat’\n",
            "\n",
            "facebook101_princto 100%[===================>]   5.33M  --.-KB/s    in 0.1s    \n",
            "\n",
            "2020-12-08 18:33:08 (35.8 MB/s) - ‘facebook101_princton_weighted.mat’ saved [5587065/5587065]\n",
            "\n"
          ],
          "name": "stdout"
        }
      ]
    },
    {
      "cell_type": "code",
      "metadata": {
        "id": "yHOMNF8p9uqs",
        "colab": {
          "base_uri": "https://localhost:8080/"
        },
        "outputId": "4450716e-38a7-4ed9-8df6-5ea5fb2a3d03"
      },
      "source": [
        "! wget \"https://github.com/AliAkbarBadri/complex-networks-basics/blob/main/marg_gain2.pickle?raw=true\" -O marg_gain.pickle"
      ],
      "execution_count": null,
      "outputs": [
        {
          "output_type": "stream",
          "text": [
            "--2020-12-03 23:37:01--  https://github.com/AliAkbarBadri/complex-networks-basics/blob/main/marg_gain.pickle?raw=true\n",
            "Resolving github.com (github.com)... 140.82.114.4\n",
            "Connecting to github.com (github.com)|140.82.114.4|:443... connected.\n",
            "HTTP request sent, awaiting response... 302 Found\n",
            "Location: https://github.com/AliAkbarBadri/complex-networks-basics/raw/main/marg_gain.pickle [following]\n",
            "--2020-12-03 23:37:01--  https://github.com/AliAkbarBadri/complex-networks-basics/raw/main/marg_gain.pickle\n",
            "Reusing existing connection to github.com:443.\n",
            "HTTP request sent, awaiting response... 302 Found\n",
            "Location: https://raw.githubusercontent.com/AliAkbarBadri/complex-networks-basics/main/marg_gain.pickle [following]\n",
            "--2020-12-03 23:37:01--  https://raw.githubusercontent.com/AliAkbarBadri/complex-networks-basics/main/marg_gain.pickle\n",
            "Resolving raw.githubusercontent.com (raw.githubusercontent.com)... 151.101.0.133, 151.101.64.133, 151.101.128.133, ...\n",
            "Connecting to raw.githubusercontent.com (raw.githubusercontent.com)|151.101.0.133|:443... connected.\n",
            "HTTP request sent, awaiting response... 200 OK\n",
            "Length: 203844 (199K) [application/octet-stream]\n",
            "Saving to: ‘marg_gain.pickle’\n",
            "\n",
            "marg_gain.pickle    100%[===================>] 199.07K  --.-KB/s    in 0.02s   \n",
            "\n",
            "2020-12-03 23:37:02 (8.15 MB/s) - ‘marg_gain.pickle’ saved [203844/203844]\n",
            "\n"
          ],
          "name": "stdout"
        }
      ]
    },
    {
      "cell_type": "markdown",
      "metadata": {
        "id": "omG6JcCMPGLO"
      },
      "source": [
        "# Reading Data"
      ]
    },
    {
      "cell_type": "code",
      "metadata": {
        "id": "Cq0LCSLpMwfu",
        "colab": {
          "base_uri": "https://localhost:8080/"
        },
        "outputId": "44db4fc1-1f03-4f85-b0cc-2906705210fe"
      },
      "source": [
        "mat = scipy.io.loadmat('facebook101_princton_weighted.mat')\n",
        "print(mat.keys())\n",
        "print(mat['A'].shape[0])\n",
        "print(mat['A'])"
      ],
      "execution_count": 3,
      "outputs": [
        {
          "output_type": "stream",
          "text": [
            "dict_keys(['__header__', '__version__', '__globals__', 'A'])\n",
            "6596\n",
            "  (41, 0)\t0.23341986187511532\n",
            "  (74, 0)\t-0.8310836341707424\n",
            "  (183, 0)\t0.3630774693417993\n",
            "  (199, 0)\t-0.4255819109410841\n",
            "  (330, 0)\t-0.8915522179046713\n",
            "  (342, 0)\t0.6004699460747422\n",
            "  (438, 0)\t0.559033155005757\n",
            "  (638, 0)\t-0.15789912487319158\n",
            "  (639, 0)\t-0.3689795200377264\n",
            "  (700, 0)\t0.667096028355807\n",
            "  (762, 0)\t0.6388290129260563\n",
            "  (790, 0)\t-0.5971903653879409\n",
            "  (813, 0)\t-0.9203448232766431\n",
            "  (908, 0)\t-0.5661217215565775\n",
            "  (1001, 0)\t-0.40887388509123834\n",
            "  (1074, 0)\t0.14383939484847108\n",
            "  (1084, 0)\t0.4229554254707699\n",
            "  (1179, 0)\t0.3118105095583956\n",
            "  (1195, 0)\t0.014127530389211218\n",
            "  (1226, 0)\t-0.47309716640306787\n",
            "  (1252, 0)\t-0.013995007645000168\n",
            "  (1343, 0)\t-0.3969440595287481\n",
            "  (1415, 0)\t0.49268599971253546\n",
            "  (1435, 0)\t-0.21118357393040132\n",
            "  (1489, 0)\t-0.250254338391553\n",
            "  :\t:\n",
            "  (3083, 6595)\t-0.2566179533318984\n",
            "  (3255, 6595)\t-0.16483967626475793\n",
            "  (3311, 6595)\t-0.9284036578868178\n",
            "  (3487, 6595)\t0.9428205382791961\n",
            "  (3647, 6595)\t-0.42217693188211425\n",
            "  (3668, 6595)\t-0.36534361853547503\n",
            "  (4023, 6595)\t0.8239484366157184\n",
            "  (4243, 6595)\t0.6851792356594184\n",
            "  (4274, 6595)\t0.9260160708129963\n",
            "  (4364, 6595)\t0.10388197690840384\n",
            "  (4512, 6595)\t-0.8146840514424398\n",
            "  (5146, 6595)\t0.1551500432630697\n",
            "  (5236, 6595)\t-0.4750785844234471\n",
            "  (5354, 6595)\t-0.7205657669715322\n",
            "  (5407, 6595)\t-0.7608004163800224\n",
            "  (5408, 6595)\t-0.4444347315815729\n",
            "  (5428, 6595)\t0.23840572054270304\n",
            "  (5541, 6595)\t-0.9204416888877411\n",
            "  (5656, 6595)\t0.9629661899264776\n",
            "  (5662, 6595)\t0.6833325001629929\n",
            "  (5701, 6595)\t-0.30194432494677126\n",
            "  (5877, 6595)\t0.06791589086551841\n",
            "  (6494, 6595)\t-0.7797964925244472\n",
            "  (6510, 6595)\t0.6686343083902995\n",
            "  (6568, 6595)\t-0.05460279445991589\n"
          ],
          "name": "stdout"
        }
      ]
    },
    {
      "cell_type": "code",
      "metadata": {
        "id": "mMTjkoHeOQbX",
        "colab": {
          "base_uri": "https://localhost:8080/"
        },
        "outputId": "3911c7fe-dd16-46f6-df25-2e33a579c242"
      },
      "source": [
        "G = nx.from_scipy_sparse_matrix(mat['A'])\n",
        "print(G.number_of_nodes())\n",
        "print(G.number_of_edges())"
      ],
      "execution_count": 4,
      "outputs": [
        {
          "output_type": "stream",
          "text": [
            "6596\n",
            "293320\n"
          ],
          "name": "stdout"
        }
      ]
    },
    {
      "cell_type": "code",
      "metadata": {
        "id": "xyMoH3rwO6QR",
        "colab": {
          "base_uri": "https://localhost:8080/"
        },
        "outputId": "26e07131-8a5c-4d70-ba83-854ec9fba9ab"
      },
      "source": [
        "G.get_edge_data(6568,6595)"
      ],
      "execution_count": 5,
      "outputs": [
        {
          "output_type": "execute_result",
          "data": {
            "text/plain": [
              "{'weight': -0.05460279445991589}"
            ]
          },
          "metadata": {
            "tags": []
          },
          "execution_count": 5
        }
      ]
    },
    {
      "cell_type": "markdown",
      "metadata": {
        "id": "LlQOxDozi730"
      },
      "source": [
        "# Influence Maximization\n",
        "https://www.cs.cornell.edu/home/kleinber/kdd03-inf.pdf \n",
        "\n",
        "https://www.cs.cmu.edu/~jure/pubs/detect-kdd07.pdf"
      ]
    },
    {
      "cell_type": "code",
      "metadata": {
        "id": "UfVD1wEKI2oK"
      },
      "source": [
        "def IC(g,S,p=0.5,mc=1000):\n",
        "  spread = []\n",
        "  for i in range(mc):\n",
        "    new_active, A = S[:], S[:]\n",
        "    while new_active:\n",
        "      new_ones = []\n",
        "      for node in new_active:\n",
        "          np.random.seed(i)\n",
        "          success = np.random.uniform(0,1,len(g[node])) < p\n",
        "          new_ones += list(np.extract(success, list(G[node])))\n",
        "      new_active = list(set(new_ones) - set(A))\n",
        "      A += new_active\n",
        "    spread.append(len(A))\n",
        "  return(np.mean(spread))"
      ],
      "execution_count": null,
      "outputs": []
    },
    {
      "cell_type": "markdown",
      "metadata": {
        "id": "FWo4Ga5HbQmJ"
      },
      "source": [
        "## Greedy"
      ]
    },
    {
      "cell_type": "code",
      "metadata": {
        "colab": {
          "base_uri": "https://localhost:8080/"
        },
        "id": "0bl3r2zZbiM-",
        "outputId": "71a6581e-6462-409a-fafb-40ea1ccf1f1b"
      },
      "source": [
        "g=G\n",
        "k=10\n",
        "p=0.1\n",
        "mc=5\n",
        "S, spread  = [], []\n",
        "for i in range(k):\n",
        "  print(\"K: \",i)\n",
        "  best_spread = 0\n",
        "  for j in set(range(g.number_of_nodes()))-set(S):\n",
        "    if j % 250==0:\n",
        "      print(\" Node:\",j)\n",
        "    s = IC(g,S + [j],p,mc)\n",
        "    if s > best_spread:\n",
        "      best_spread, node = s, j\n",
        "  S.append(node)\n",
        "  spread.append(best_spread)\n",
        "S,spread"
      ],
      "execution_count": null,
      "outputs": [
        {
          "output_type": "stream",
          "text": [
            "K: 0\n",
            " Node: 0\n",
            " Node: 250\n",
            " Node: 500\n",
            " Node: 750\n",
            " Node: 1000\n",
            " Node: 1250\n",
            " Node: 1500\n",
            " Node: 1750\n",
            " Node: 2000\n",
            " Node: 2250\n",
            " Node: 2500\n",
            " Node: 2750\n",
            " Node: 3000\n",
            " Node: 3250\n",
            " Node: 3500\n",
            " Node: 3750\n",
            " Node: 4000\n",
            " Node: 4250\n",
            " Node: 4500\n",
            " Node: 4750\n",
            " Node: 5000\n",
            " Node: 5250\n",
            " Node: 5500\n",
            " Node: 5750\n",
            " Node: 6000\n",
            " Node: 6250\n",
            " Node: 6500\n",
            "K: 1\n",
            " Node: 0\n",
            " Node: 250\n",
            " Node: 500\n",
            " Node: 750\n",
            " Node: 1000\n",
            " Node: 1250\n",
            " Node: 1500\n",
            " Node: 1750\n",
            " Node: 2000\n",
            " Node: 2250\n",
            " Node: 2500\n",
            " Node: 2750\n",
            " Node: 3000\n",
            " Node: 3250\n",
            " Node: 3500\n",
            " Node: 3750\n",
            " Node: 4000\n",
            " Node: 4250\n",
            " Node: 4500\n",
            " Node: 4750\n",
            " Node: 5000\n",
            " Node: 5250\n",
            " Node: 5500\n",
            " Node: 5750\n",
            " Node: 6000\n",
            " Node: 6250\n",
            " Node: 6500\n",
            "K: 2\n",
            " Node: 0\n",
            " Node: 250\n",
            " Node: 500\n",
            " Node: 750\n",
            " Node: 1000\n",
            " Node: 1250\n",
            " Node: 1500\n",
            " Node: 1750\n",
            " Node: 2000\n",
            " Node: 2250\n",
            " Node: 2500\n",
            " Node: 2750\n",
            " Node: 3000\n",
            " Node: 3250\n",
            " Node: 3500\n",
            " Node: 3750\n",
            " Node: 4000\n",
            " Node: 4250\n",
            " Node: 4500\n",
            " Node: 4750\n",
            " Node: 5000\n",
            " Node: 5250\n",
            " Node: 5500\n",
            " Node: 5750\n",
            " Node: 6000\n",
            " Node: 6250\n",
            " Node: 6500\n",
            "K: 3\n",
            " Node: 0\n",
            " Node: 250\n",
            " Node: 500\n",
            " Node: 750\n",
            " Node: 1000\n",
            " Node: 1250\n",
            " Node: 1500\n",
            " Node: 1750\n",
            " Node: 2000\n",
            " Node: 2250\n",
            " Node: 2500\n",
            " Node: 2750\n",
            " Node: 3000\n",
            " Node: 3250\n",
            " Node: 3500\n",
            " Node: 3750\n",
            " Node: 4000\n",
            " Node: 4250\n",
            " Node: 4500\n",
            " Node: 4750\n",
            " Node: 5000\n",
            " Node: 5250\n",
            " Node: 5500\n",
            " Node: 5750\n",
            " Node: 6000\n",
            " Node: 6250\n",
            " Node: 6500\n",
            "K: 4\n",
            " Node: 0\n",
            " Node: 250\n",
            " Node: 500\n",
            " Node: 750\n",
            " Node: 1000\n",
            " Node: 1250\n",
            " Node: 1500\n",
            " Node: 1750\n",
            " Node: 2000\n",
            " Node: 2250\n",
            " Node: 2500\n",
            " Node: 2750\n",
            " Node: 3000\n",
            " Node: 3250\n",
            " Node: 3500\n",
            " Node: 3750\n",
            " Node: 4000\n",
            " Node: 4250\n",
            " Node: 4500\n",
            " Node: 4750\n",
            " Node: 5000\n",
            " Node: 5250\n",
            " Node: 5500\n",
            " Node: 5750\n",
            " Node: 6000\n",
            " Node: 6250\n",
            " Node: 6500\n",
            "K: 5\n",
            " Node: 0\n",
            " Node: 250\n",
            " Node: 500\n",
            " Node: 750\n",
            " Node: 1000\n",
            " Node: 1250\n",
            " Node: 1500\n",
            " Node: 1750\n",
            " Node: 2000\n",
            " Node: 2250\n",
            " Node: 2500\n",
            " Node: 2750\n",
            " Node: 3000\n",
            " Node: 3250\n",
            " Node: 3500\n",
            " Node: 3750\n",
            " Node: 4000\n",
            " Node: 4250\n",
            " Node: 4500\n",
            " Node: 4750\n",
            " Node: 5000\n",
            " Node: 5250\n",
            " Node: 5500\n",
            " Node: 5750\n",
            " Node: 6000\n",
            " Node: 6250\n",
            " Node: 6500\n",
            "K: 6\n",
            " Node: 0\n",
            " Node: 250\n",
            " Node: 500\n",
            " Node: 750\n",
            " Node: 1000\n",
            " Node: 1250\n",
            " Node: 1500\n",
            " Node: 1750\n",
            " Node: 2000\n",
            " Node: 2250\n",
            " Node: 2500\n",
            " Node: 2750\n",
            " Node: 3000\n",
            " Node: 3250\n",
            " Node: 3500\n",
            " Node: 3750\n",
            " Node: 4000\n",
            " Node: 4250\n",
            " Node: 4500\n",
            " Node: 4750\n",
            " Node: 5000\n",
            " Node: 5250\n",
            " Node: 5500\n",
            " Node: 5750\n",
            " Node: 6000\n",
            " Node: 6250\n",
            " Node: 6500\n",
            "K: 7\n",
            " Node: 0\n",
            " Node: 250\n",
            " Node: 500\n",
            " Node: 750\n",
            " Node: 1000\n",
            " Node: 1250\n",
            " Node: 1500\n",
            " Node: 1750\n",
            " Node: 2000\n",
            " Node: 2250\n",
            " Node: 2500\n",
            " Node: 2750\n",
            " Node: 3000\n",
            " Node: 3250\n",
            " Node: 3500\n",
            " Node: 3750\n",
            " Node: 4000\n",
            " Node: 4250\n",
            " Node: 4500\n",
            " Node: 4750\n",
            " Node: 5000\n",
            " Node: 5250\n",
            " Node: 5500\n",
            " Node: 5750\n",
            " Node: 6000\n",
            " Node: 6250\n",
            " Node: 6500\n",
            "K: 8\n",
            " Node: 0\n",
            " Node: 250\n",
            " Node: 500\n",
            " Node: 750\n",
            " Node: 1000\n",
            " Node: 1250\n",
            " Node: 1500\n",
            " Node: 1750\n",
            " Node: 2000\n",
            " Node: 2250\n",
            " Node: 2500\n",
            " Node: 2750\n",
            " Node: 3000\n",
            " Node: 3250\n",
            " Node: 3500\n",
            " Node: 3750\n",
            " Node: 4000\n",
            " Node: 4250\n",
            " Node: 4500\n",
            " Node: 4750\n",
            " Node: 5000\n",
            " Node: 5250\n",
            " Node: 5500\n",
            " Node: 5750\n",
            " Node: 6000\n",
            " Node: 6250\n",
            " Node: 6500\n",
            "K: 9\n",
            " Node: 0\n",
            " Node: 250\n",
            " Node: 500\n",
            " Node: 750\n",
            " Node: 1000\n",
            " Node: 1250\n",
            " Node: 1500\n",
            " Node: 1750\n",
            " Node: 2000\n",
            " Node: 2250\n",
            " Node: 2500\n",
            " Node: 2750\n",
            " Node: 3000\n",
            " Node: 3250\n",
            " Node: 3500\n",
            " Node: 3750\n",
            " Node: 4000\n",
            " Node: 4250\n",
            " Node: 4500\n",
            " Node: 4750\n",
            " Node: 5000\n",
            " Node: 5250\n",
            " Node: 5500\n",
            " Node: 5750\n",
            " Node: 6000\n",
            " Node: 6250\n",
            " Node: 6500\n",
            "[21, 4138, 41, 5, 1877, 6363, 4773, 4011, 2707, 2526],\n",
            " [5783.6,\n",
            "  5786.2,\n",
            "  5788.4,\n",
            "  5790.2,\n",
            "  5791.8,\n",
            "  5793.2,\n",
            "  5794.6,\n",
            "  5796.0,\n",
            "  5797.4,\n",
            "  5798.8]\n",
            "\n"
          ],
          "name": "stdout"
        }
      ]
    },
    {
      "cell_type": "markdown",
      "metadata": {
        "id": "azXQjnKba-pI"
      },
      "source": [
        "## Lazy Greedy"
      ]
    },
    {
      "cell_type": "code",
      "metadata": {
        "colab": {
          "base_uri": "https://localhost:8080/"
        },
        "id": "1o2Llqt1Z6y3",
        "outputId": "a51f4175-1aaa-4ee6-f025-1d5c5e573ccd"
      },
      "source": [
        "g=G\n",
        "k=10\n",
        "p=0.1\n",
        "mc=5\n",
        "\n",
        "start_time = time.time() \n",
        "marg_gain = []\n",
        "for i,node in enumerate(range(g.number_of_nodes())):\n",
        "  if i % 250 == 0:\n",
        "    print(\"node: \",i)\n",
        "  marg_gain.append(IC(g,[node],p,mc))"
      ],
      "execution_count": null,
      "outputs": [
        {
          "output_type": "stream",
          "text": [
            "node:  0\n",
            "node:  250\n",
            "node:  500\n",
            "node:  750\n",
            "node:  1000\n",
            "node:  1250\n",
            "node:  1500\n",
            "node:  1750\n",
            "node:  2000\n",
            "node:  2250\n",
            "node:  2500\n",
            "node:  2750\n",
            "node:  3000\n",
            "node:  3250\n",
            "node:  3500\n",
            "node:  3750\n",
            "node:  4000\n",
            "node:  4250\n",
            "node:  4500\n",
            "node:  4750\n",
            "node:  5000\n",
            "node:  5250\n",
            "node:  5500\n",
            "node:  5750\n",
            "node:  6000\n",
            "node:  6250\n",
            "node:  6500\n"
          ],
          "name": "stdout"
        }
      ]
    },
    {
      "cell_type": "code",
      "metadata": {
        "id": "3ZoRu68S82ZH"
      },
      "source": [
        "# pickle_out = open(\"marg_gain.pickle\",\"wb\")\n",
        "# pickle.dump(marg_gain, pickle_out)\n",
        "# pickle_out.close()"
      ],
      "execution_count": null,
      "outputs": []
    },
    {
      "cell_type": "code",
      "metadata": {
        "id": "Uj6LBm648_dJ"
      },
      "source": [
        "# pickle_in = open(\"marg_gain.pickle\",\"rb\")\n",
        "# marg_gain = pickle.load(pickle_in)"
      ],
      "execution_count": null,
      "outputs": []
    },
    {
      "cell_type": "code",
      "metadata": {
        "id": "qCP2Z4N14S-q"
      },
      "source": [
        "Q = sorted(zip(range(g.number_of_nodes()),marg_gain), key=lambda x: x[1],reverse=True)\n",
        "S, spread, SPREAD = [Q[0][0]], Q[0][1], [Q[0][1]]"
      ],
      "execution_count": null,
      "outputs": []
    },
    {
      "cell_type": "code",
      "metadata": {
        "id": "MVUCKk5R5zPc"
      },
      "source": [
        "Q, LOOKUPS, timelapse = Q[1:], [g.number_of_nodes()], [time.time()-start_time]"
      ],
      "execution_count": null,
      "outputs": []
    },
    {
      "cell_type": "code",
      "metadata": {
        "colab": {
          "base_uri": "https://localhost:8080/"
        },
        "id": "XCYrfLIHb459",
        "outputId": "0432469e-100e-4805-dbf5-f5e6746bfe4d"
      },
      "source": [
        "for i in range(k-1):\n",
        "  print(\"K:\",i)\n",
        "  check, node_lookup = False, 0\n",
        "  while not check:\n",
        "    if node_lookup%100==0:\n",
        "      print(\" node_lookup:\", node_lookup)\n",
        "    node_lookup += 1        \n",
        "    current = Q[0][0]\n",
        "    Q[0] = (current, IC(g,S+[current],p,mc) - spread)\n",
        "    Q = sorted(Q, key = lambda x: x[1], reverse = True)\n",
        "    check = (Q[0][0] == current)\n",
        "  spread += Q[0][1]\n",
        "  S.append(Q[0][0])\n",
        "  SPREAD.append(spread)\n",
        "  LOOKUPS.append(node_lookup)\n",
        "  timelapse.append(time.time() - start_time)\n",
        "  Q = Q[1:]\n",
        "S,SPREAD,timelapse,LOOKUPS"
      ],
      "execution_count": null,
      "outputs": [
        {
          "output_type": "stream",
          "text": [
            "K: 0\n",
            " node_lookup: 0\n",
            " node_lookup: 100\n",
            " node_lookup: 200\n",
            " node_lookup: 300\n",
            " node_lookup: 400\n",
            " node_lookup: 500\n",
            " node_lookup: 600\n",
            " node_lookup: 700\n",
            " node_lookup: 800\n",
            " node_lookup: 900\n",
            " node_lookup: 1000\n",
            " node_lookup: 1100\n",
            " node_lookup: 1200\n",
            " node_lookup: 1300\n",
            " node_lookup: 1400\n",
            " node_lookup: 1500\n",
            " node_lookup: 1600\n",
            " node_lookup: 1700\n",
            " node_lookup: 1800\n",
            " node_lookup: 1900\n",
            " node_lookup: 2000\n",
            " node_lookup: 2100\n",
            " node_lookup: 2200\n",
            " node_lookup: 2300\n",
            " node_lookup: 2400\n",
            " node_lookup: 2500\n",
            " node_lookup: 2600\n",
            " node_lookup: 2700\n",
            " node_lookup: 2800\n",
            " node_lookup: 2900\n",
            " node_lookup: 3000\n",
            " node_lookup: 3100\n",
            " node_lookup: 3200\n",
            " node_lookup: 3300\n",
            " node_lookup: 3400\n",
            " node_lookup: 3500\n",
            " node_lookup: 3600\n",
            " node_lookup: 3700\n",
            " node_lookup: 3800\n",
            " node_lookup: 3900\n",
            " node_lookup: 4000\n",
            " node_lookup: 4100\n",
            " node_lookup: 4200\n",
            " node_lookup: 4300\n",
            " node_lookup: 4400\n",
            " node_lookup: 4500\n",
            " node_lookup: 4600\n",
            " node_lookup: 4700\n",
            " node_lookup: 4800\n",
            " node_lookup: 4900\n",
            " node_lookup: 5000\n",
            " node_lookup: 5100\n",
            " node_lookup: 5200\n",
            " node_lookup: 5300\n",
            " node_lookup: 5400\n",
            " node_lookup: 5500\n",
            " node_lookup: 5600\n",
            " node_lookup: 5700\n",
            " node_lookup: 5800\n",
            " node_lookup: 5900\n",
            " node_lookup: 6000\n",
            " node_lookup: 6100\n",
            "K: 1\n",
            " node_lookup: 0\n",
            "K: 2\n",
            " node_lookup: 0\n",
            "K: 3\n",
            " node_lookup: 0\n",
            "K: 4\n",
            " node_lookup: 0\n",
            "K: 5\n",
            " node_lookup: 0\n",
            "K: 6\n",
            " node_lookup: 0\n",
            "K: 7\n",
            " node_lookup: 0\n",
            "K: 8\n",
            " node_lookup: 0\n"
          ],
          "name": "stdout"
        },
        {
          "output_type": "execute_result",
          "data": {
            "text/plain": [
              "([21, 4138, 41, 5, 1877, 6363, 4773, 4011, 2707, 2526],\n",
              " [5783.6,\n",
              "  5786.2,\n",
              "  5788.4,\n",
              "  5790.2,\n",
              "  5791.8,\n",
              "  5793.2,\n",
              "  5794.6,\n",
              "  5796.0,\n",
              "  5797.4,\n",
              "  5798.8],\n",
              " [8014.99306511879,\n",
              "  16358.044126749039,\n",
              "  16360.450620412827,\n",
              "  16370.002128601074,\n",
              "  16371.261121034622,\n",
              "  16385.71291732788,\n",
              "  16386.936264038086,\n",
              "  16388.16443991661,\n",
              "  16390.605731248856,\n",
              "  16391.82336997986],\n",
              " [6596, 6132, 2, 8, 1, 12, 1, 1, 2, 1])"
            ]
          },
          "metadata": {
            "tags": []
          },
          "execution_count": 98
        }
      ]
    },
    {
      "cell_type": "markdown",
      "metadata": {
        "id": "ZIIuNwqJjAte"
      },
      "source": [
        "# Outbreak Detection"
      ]
    },
    {
      "cell_type": "code",
      "metadata": {
        "id": "Z5Z-7cSBDsZA"
      },
      "source": [
        "sampled_graph = G.subgraph(list(range(0,1000)))"
      ],
      "execution_count": 85,
      "outputs": []
    },
    {
      "cell_type": "code",
      "metadata": {
        "id": "K3MohIIsjDNd"
      },
      "source": [
        "def IC(g,S,p=0.5,mc=1000):\n",
        "  spread = []\n",
        "  cost = []\n",
        "  for i in range(mc):\n",
        "    new_active, A = S[:], S[:]\n",
        "    while new_active:\n",
        "      new_ones = []\n",
        "      for node in new_active:\n",
        "        np.random.seed(i)\n",
        "        success = np.random.uniform(0,1,len(g[node])) < p\n",
        "        new_ones += list(np.extract(success, list(G[node]))) \n",
        "      new_active = list(set(new_ones) - set(A))\n",
        "      A += new_active\n",
        "    spread.append(len(A))\n",
        "    \n",
        "  cost = np.sum([np.sum([abs(G.get_edge_data(node_pair[0],node_pair[1])['weight']) for node_pair in G.edges(s)]) for s in S])\n",
        "  return(np.mean(spread), cost)"
      ],
      "execution_count": 70,
      "outputs": []
    },
    {
      "cell_type": "markdown",
      "metadata": {
        "id": "M035HvwErF0C"
      },
      "source": [
        "## Lazy Greedy"
      ]
    },
    {
      "cell_type": "code",
      "metadata": {
        "colab": {
          "base_uri": "https://localhost:8080/"
        },
        "id": "c4u_ond9IjBZ",
        "outputId": "3d772776-7751-4bda-ef31-c90792587677"
      },
      "source": [
        "sampled_graph.number_of_nodes(), sampled_graph.number_of_edges()"
      ],
      "execution_count": 86,
      "outputs": [
        {
          "output_type": "execute_result",
          "data": {
            "text/plain": [
              "(1000, 6935)"
            ]
          },
          "metadata": {
            "tags": []
          },
          "execution_count": 86
        }
      ]
    },
    {
      "cell_type": "code",
      "metadata": {
        "colab": {
          "base_uri": "https://localhost:8080/"
        },
        "id": "DoD2JLmVrF0C",
        "outputId": "451c8ee8-91d3-4248-d648-18c1c6534064"
      },
      "source": [
        "start_time = time.time() \n",
        "g=sampled_graph\n",
        "p=0.1\n",
        "mc=5\n",
        "\n",
        "\n",
        "reward_cost = []\n",
        "start_time = time.time()\n",
        "for i,node in enumerate(range(g.number_of_nodes())):\n",
        "  if i % 100 == 0:\n",
        "    print(\"node: \",i)\n",
        "  reward_cost.append(IC(g,[node],p,mc))\n",
        "print(time.time() - start_time)"
      ],
      "execution_count": 97,
      "outputs": [
        {
          "output_type": "stream",
          "text": [
            "node:  0\n",
            "node:  100\n",
            "node:  200\n",
            "node:  300\n",
            "node:  400\n",
            "node:  500\n",
            "node:  600\n",
            "node:  700\n",
            "node:  800\n",
            "node:  900\n",
            "242.68867993354797\n"
          ],
          "name": "stdout"
        }
      ]
    },
    {
      "cell_type": "code",
      "metadata": {
        "colab": {
          "base_uri": "https://localhost:8080/"
        },
        "id": "nE56jWoZLbze",
        "outputId": "e2e67672-c9c4-4c3c-e15b-3c0fdc5c7854"
      },
      "source": [
        "reward_cost[:10]"
      ],
      "execution_count": 98,
      "outputs": [
        {
          "output_type": "execute_result",
          "data": {
            "text/plain": [
              "[(434.4, 49.60587559216012),\n",
              " (103.4, 6.132779829633405),\n",
              " (103.4, 6.031329452008562),\n",
              " (1.8, 8.450456246905508),\n",
              " (242.4, 21.936088834377628),\n",
              " (516.2, 249.3511263984574),\n",
              " (417.4, 74.1256862419249),\n",
              " (511.2, 64.87171620953266),\n",
              " (338.6, 27.51054819849458),\n",
              " (242.4, 27.217282789194297)]"
            ]
          },
          "metadata": {
            "tags": []
          },
          "execution_count": 98
        }
      ]
    },
    {
      "cell_type": "code",
      "metadata": {
        "colab": {
          "base_uri": "https://localhost:8080/"
        },
        "id": "n8dpWk4qKsBF",
        "outputId": "1cf74b00-79bc-45c5-f211-48cb44c7281e"
      },
      "source": [
        "marg_gain = [0.3*item[0]-item[1] for item in reward_cost]\n",
        "marg_gain[:10]"
      ],
      "execution_count": 99,
      "outputs": [
        {
          "output_type": "execute_result",
          "data": {
            "text/plain": [
              "[80.71412440783988,\n",
              " 24.887220170366597,\n",
              " 24.98867054799144,\n",
              " -7.910456246905508,\n",
              " 50.78391116562237,\n",
              " -94.4911263984574,\n",
              " 51.09431375807509,\n",
              " 88.48828379046732,\n",
              " 74.06945180150542,\n",
              " 45.5027172108057]"
            ]
          },
          "metadata": {
            "tags": []
          },
          "execution_count": 99
        }
      ]
    },
    {
      "cell_type": "code",
      "metadata": {
        "id": "TLzudUGerF0E"
      },
      "source": [
        "Q = sorted(zip(range(g.number_of_nodes()),marg_gain), key=lambda x: x[1],reverse=True)\n",
        "S, spread, SPREAD = [Q[0][0]], Q[0][1], [Q[0][1]]"
      ],
      "execution_count": 115,
      "outputs": []
    },
    {
      "cell_type": "code",
      "metadata": {
        "id": "JyQfLt5wrF0E"
      },
      "source": [
        "Q, LOOKUPS, timelapse = Q[1:], [g.number_of_nodes()], [time.time()-start_time]"
      ],
      "execution_count": 116,
      "outputs": []
    },
    {
      "cell_type": "code",
      "metadata": {
        "colab": {
          "base_uri": "https://localhost:8080/"
        },
        "id": "y_qKtdDOMxD3",
        "outputId": "21d79bf3-a6d7-421c-9706-b431d536b0e2"
      },
      "source": [
        "Q[:10]"
      ],
      "execution_count": 117,
      "outputs": [
        {
          "output_type": "execute_result",
          "data": {
            "text/plain": [
              "[(931, 126.46680528282307),\n",
              " (885, 124.37249705189882),\n",
              " (701, 118.36678850962114),\n",
              " (362, 117.70600999275291),\n",
              " (652, 116.96473790454732),\n",
              " (655, 114.05351878323165),\n",
              " (418, 113.49409045604823),\n",
              " (798, 113.2165233608207),\n",
              " (585, 112.71140844623807),\n",
              " (123, 112.53379569514874)]"
            ]
          },
          "metadata": {
            "tags": []
          },
          "execution_count": 117
        }
      ]
    },
    {
      "cell_type": "code",
      "metadata": {
        "colab": {
          "base_uri": "https://localhost:8080/"
        },
        "id": "CghI4XE2rF0E",
        "outputId": "53c2eba0-f2c3-4eb8-951d-7f72c38d078e"
      },
      "source": [
        "prev_spred = -1\n",
        "sum = 1\n",
        "i = 0\n",
        "while True:\n",
        "  print(\"K:\",i)\n",
        "  check, node_lookup = False, 0\n",
        "  while not check:\n",
        "    if node_lookup%100==0:\n",
        "      print(\" node_lookup:\", node_lookup)\n",
        "    node_lookup += 1        \n",
        "    current = Q[0][0]\n",
        "    reward_cost_temp = IC(g,S+[current],p,mc)\n",
        "    Q[0] = (current, (0.3*reward_cost_temp[0]-reward_cost_temp[1]) - spread)\n",
        "    Q = sorted(Q, key = lambda x: x[1], reverse = True)\n",
        "    check = (Q[0][0] == current)\n",
        "  if spread + Q[0][1] >= spread:\n",
        "    spread += Q[0][1]\n",
        "    S.append(Q[0][0])\n",
        "    SPREAD.append(spread)\n",
        "    LOOKUPS.append(node_lookup)\n",
        "    timelapse.append(time.time() - start_time)\n",
        "    Q = Q[1:]\n",
        "    i+=1\n",
        "  else:\n",
        "    print(\"Bad one, index:\",Q[0][0],', Value:', Q[0][1])\n",
        "    break\n",
        "S,SPREAD,timelapse,LOOKUPS"
      ],
      "execution_count": 118,
      "outputs": [
        {
          "output_type": "stream",
          "text": [
            "K: 0\n",
            " node_lookup: 0\n",
            " node_lookup: 100\n",
            " node_lookup: 200\n",
            " node_lookup: 300\n",
            " node_lookup: 400\n",
            " node_lookup: 500\n",
            " node_lookup: 600\n",
            " node_lookup: 700\n",
            " node_lookup: 800\n",
            "K: 1\n",
            " node_lookup: 0\n",
            "K: 2\n",
            " node_lookup: 0\n",
            "K: 3\n",
            " node_lookup: 0\n",
            "K: 4\n",
            " node_lookup: 0\n",
            "K: 5\n",
            " node_lookup: 0\n",
            "K: 6\n",
            " node_lookup: 0\n",
            "K: 7\n",
            " node_lookup: 0\n",
            "K: 8\n",
            " node_lookup: 0\n",
            "K: 9\n",
            " node_lookup: 0\n",
            "K: 10\n",
            " node_lookup: 0\n",
            "K: 11\n",
            " node_lookup: 0\n",
            "K: 12\n",
            " node_lookup: 0\n",
            "K: 13\n",
            " node_lookup: 0\n",
            "Bad one, index: 231 , Value: -0.10157343103034577\n"
          ],
          "name": "stdout"
        },
        {
          "output_type": "execute_result",
          "data": {
            "text/plain": [
              "([922, 556, 675, 624, 126, 357, 754, 980, 369, 890, 478, 664, 390, 755],\n",
              " [127.3596441398733,\n",
              "  127.65773371564205,\n",
              "  127.94262768678156,\n",
              "  128.22607072717022,\n",
              "  128.4126953629749,\n",
              "  128.571072739883,\n",
              "  128.71923210248107,\n",
              "  128.85331586455482,\n",
              "  128.98104041780482,\n",
              "  129.08737267662838,\n",
              "  129.14598229973672,\n",
              "  129.18127880297243,\n",
              "  129.206379895828,\n",
              "  129.22471102136547],\n",
              " [3261.5113637447357,\n",
              "  3585.4916903972626,\n",
              "  3585.941938638687,\n",
              "  3586.532333612442,\n",
              "  3587.1196587085724,\n",
              "  3587.7037048339844,\n",
              "  3588.254677295685,\n",
              "  3589.4248790740967,\n",
              "  3589.934312105179,\n",
              "  3590.4335236549377,\n",
              "  3591.0248720645905,\n",
              "  3591.6091527938843,\n",
              "  3592.2003362178802,\n",
              "  3592.790076494217],\n",
              " [1000, 835, 1, 1, 1, 1, 1, 2, 1, 1, 1, 1, 1, 1])"
            ]
          },
          "metadata": {
            "tags": []
          },
          "execution_count": 118
        }
      ]
    }
  ]
}